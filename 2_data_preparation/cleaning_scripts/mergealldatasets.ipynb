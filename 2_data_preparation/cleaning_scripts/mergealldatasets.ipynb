{
 "cells": [
  {
   "cell_type": "markdown",
   "id": "a78efd3a",
   "metadata": {},
   "source": [
    "# All Datasets\n",
    "\n",
    "This notebook contains all merged datasets."
   ]
  },
  {
   "cell_type": "code",
   "execution_count": null,
   "id": "49ae7fd9",
   "metadata": {},
   "outputs": [],
   "source": [
    "import pandas as pd\n",
    "\n",
    "# Load the dataset\n",
    "flood_water_extent = pd.read_csv(\n",
    "    \"Cleaned_Flood_Water_Extent_Kampala_Addis_2005_2025_km2.csv\"\n",
    ")\n",
    "Rainfall_mm = pd.read_csv(\"Cleaned_Rainfall_Data.csv\")\n",
    "Urban_Extent_km2 = pd.read_csv(\"Cleaned_UrbanExtent_Kampala_Addis.csv\")\n",
    "\n",
    "# Normalize all column names across datasets\n",
    "flood_water_extent.columns = flood_water_extent.columns.str.lower().str.replace(\n",
    "    \" \", \"_\"\n",
    ")\n",
    "\n",
    "Rainfall_mm.columns = Rainfall_mm.columns.str.lower().str.replace(\" \", \"_\")\n",
    "Urban_Extent_km2.columns = Urban_Extent_km2.columns.str.lower().str.replace(\" \", \"_\")"
   ]
  },
  {
   "cell_type": "code",
   "execution_count": null,
   "id": "62b9dbf8",
   "metadata": {},
   "outputs": [
    {
     "data": {
      "application/vnd.microsoft.datawrangler.viewer.v0+json": {
       "columns": [
        {
         "name": "index",
         "rawType": "int64",
         "type": "integer"
        },
        {
         "name": "year",
         "rawType": "float64",
         "type": "float"
        },
        {
         "name": "city",
         "rawType": "object",
         "type": "string"
        },
        {
         "name": "flood_water_extent_(km^2)",
         "rawType": "float64",
         "type": "float"
        },
        {
         "name": "rainfall_mm",
         "rawType": "float64",
         "type": "float"
        },
        {
         "name": "urban_area_sqkm",
         "rawType": "float64",
         "type": "float"
        }
       ],
       "ref": "eae299a4-24b7-43c6-a8de-78e1e868e8ef",
       "rows": [
        [
         "0",
         "2001.0",
         "Addis Ababa",
         null,
         null,
         "193.5212066265932"
        ],
        [
         "1",
         "2001.0",
         "Kampala",
         null,
         null,
         "186.0646509253064"
        ],
        [
         "2",
         "2002.0",
         "Addis Ababa",
         null,
         null,
         "193.5212066265932"
        ],
        [
         "3",
         "2002.0",
         "Kampala",
         null,
         null,
         "189.05124250343133"
        ],
        [
         "4",
         "2003.0",
         "Addis Ababa",
         null,
         null,
         "194.0191338453432"
        ]
       ],
       "shape": {
        "columns": 5,
        "rows": 5
       }
      },
      "text/html": [
       "<div>\n",
       "<style scoped>\n",
       "    .dataframe tbody tr th:only-of-type {\n",
       "        vertical-align: middle;\n",
       "    }\n",
       "\n",
       "    .dataframe tbody tr th {\n",
       "        vertical-align: top;\n",
       "    }\n",
       "\n",
       "    .dataframe thead th {\n",
       "        text-align: right;\n",
       "    }\n",
       "</style>\n",
       "<table border=\"1\" class=\"dataframe\">\n",
       "  <thead>\n",
       "    <tr style=\"text-align: right;\">\n",
       "      <th></th>\n",
       "      <th>year</th>\n",
       "      <th>city</th>\n",
       "      <th>flood_water_extent_(km^2)</th>\n",
       "      <th>rainfall_mm</th>\n",
       "      <th>urban_area_sqkm</th>\n",
       "    </tr>\n",
       "  </thead>\n",
       "  <tbody>\n",
       "    <tr>\n",
       "      <th>0</th>\n",
       "      <td>2001.0</td>\n",
       "      <td>Addis Ababa</td>\n",
       "      <td>NaN</td>\n",
       "      <td>NaN</td>\n",
       "      <td>193.521207</td>\n",
       "    </tr>\n",
       "    <tr>\n",
       "      <th>1</th>\n",
       "      <td>2001.0</td>\n",
       "      <td>Kampala</td>\n",
       "      <td>NaN</td>\n",
       "      <td>NaN</td>\n",
       "      <td>186.064651</td>\n",
       "    </tr>\n",
       "    <tr>\n",
       "      <th>2</th>\n",
       "      <td>2002.0</td>\n",
       "      <td>Addis Ababa</td>\n",
       "      <td>NaN</td>\n",
       "      <td>NaN</td>\n",
       "      <td>193.521207</td>\n",
       "    </tr>\n",
       "    <tr>\n",
       "      <th>3</th>\n",
       "      <td>2002.0</td>\n",
       "      <td>Kampala</td>\n",
       "      <td>NaN</td>\n",
       "      <td>NaN</td>\n",
       "      <td>189.051243</td>\n",
       "    </tr>\n",
       "    <tr>\n",
       "      <th>4</th>\n",
       "      <td>2003.0</td>\n",
       "      <td>Addis Ababa</td>\n",
       "      <td>NaN</td>\n",
       "      <td>NaN</td>\n",
       "      <td>194.019134</td>\n",
       "    </tr>\n",
       "  </tbody>\n",
       "</table>\n",
       "</div>"
      ],
      "text/plain": [
       "     year         city  flood_water_extent_(km^2)  rainfall_mm  \\\n",
       "0  2001.0  Addis Ababa                        NaN          NaN   \n",
       "1  2001.0      Kampala                        NaN          NaN   \n",
       "2  2002.0  Addis Ababa                        NaN          NaN   \n",
       "3  2002.0      Kampala                        NaN          NaN   \n",
       "4  2003.0  Addis Ababa                        NaN          NaN   \n",
       "\n",
       "   urban_area_sqkm  \n",
       "0       193.521207  \n",
       "1       186.064651  \n",
       "2       193.521207  \n",
       "3       189.051243  \n",
       "4       194.019134  "
      ]
     },
     "execution_count": 11,
     "metadata": {},
     "output_type": "execute_result"
    }
   ],
   "source": [
    "# Merge flood water extent with rainfall data\n",
    "merged_data = pd.merge(\n",
    "    flood_water_extent, Rainfall_mm, on=[\"year\", \"city\"], how=\"outer\"\n",
    ")\n",
    "\n",
    "# Merge the result with urban extent data\n",
    "merged_data = pd.merge(merged_data, Urban_Extent_km2, on=[\"year\", \"city\"], how=\"outer\")\n",
    "\n",
    "merged_data = merged_data.sort_values(by=[\"year\", \"city\"]).reset_index(drop=True)\n",
    "\n",
    "merged_data.head()"
   ]
  },
  {
   "cell_type": "code",
   "execution_count": 13,
   "id": "56b5e73c",
   "metadata": {},
   "outputs": [
    {
     "data": {
      "application/vnd.microsoft.datawrangler.viewer.v0+json": {
       "columns": [
        {
         "name": "index",
         "rawType": "int64",
         "type": "integer"
        },
        {
         "name": "year",
         "rawType": "float64",
         "type": "float"
        },
        {
         "name": "city",
         "rawType": "object",
         "type": "string"
        },
        {
         "name": "flood_water_extent_(km^2)",
         "rawType": "float64",
         "type": "float"
        },
        {
         "name": "rainfall_mm",
         "rawType": "float64",
         "type": "float"
        },
        {
         "name": "urban_area_sqkm",
         "rawType": "float64",
         "type": "float"
        }
       ],
       "ref": "792d8dcc-0cb5-4859-ad0b-cac3463a43d7",
       "rows": [
        [
         "0",
         "2005.0",
         "Addis Ababa",
         "0.0",
         "1174.917609",
         "194.2680980172181"
        ],
        [
         "1",
         "2005.0",
         "Kampala",
         "0.0",
         "1102.198519",
         "212.9439756440564"
        ],
        [
         "2",
         "2006.0",
         "Addis Ababa",
         "0.0",
         "1322.667343",
         "196.25980779846813"
        ],
        [
         "3",
         "2006.0",
         "Kampala",
         "0.0",
         "1305.71652",
         "217.1749807690564"
        ],
        [
         "4",
         "2007.0",
         "Addis Ababa",
         "0.0",
         "1261.0287273",
         "196.75773654846813"
        ]
       ],
       "shape": {
        "columns": 5,
        "rows": 5
       }
      },
      "text/html": [
       "<div>\n",
       "<style scoped>\n",
       "    .dataframe tbody tr th:only-of-type {\n",
       "        vertical-align: middle;\n",
       "    }\n",
       "\n",
       "    .dataframe tbody tr th {\n",
       "        vertical-align: top;\n",
       "    }\n",
       "\n",
       "    .dataframe thead th {\n",
       "        text-align: right;\n",
       "    }\n",
       "</style>\n",
       "<table border=\"1\" class=\"dataframe\">\n",
       "  <thead>\n",
       "    <tr style=\"text-align: right;\">\n",
       "      <th></th>\n",
       "      <th>year</th>\n",
       "      <th>city</th>\n",
       "      <th>flood_water_extent_(km^2)</th>\n",
       "      <th>rainfall_mm</th>\n",
       "      <th>urban_area_sqkm</th>\n",
       "    </tr>\n",
       "  </thead>\n",
       "  <tbody>\n",
       "    <tr>\n",
       "      <th>0</th>\n",
       "      <td>2005.0</td>\n",
       "      <td>Addis Ababa</td>\n",
       "      <td>0.0</td>\n",
       "      <td>1174.917609</td>\n",
       "      <td>194.268098</td>\n",
       "    </tr>\n",
       "    <tr>\n",
       "      <th>1</th>\n",
       "      <td>2005.0</td>\n",
       "      <td>Kampala</td>\n",
       "      <td>0.0</td>\n",
       "      <td>1102.198519</td>\n",
       "      <td>212.943976</td>\n",
       "    </tr>\n",
       "    <tr>\n",
       "      <th>2</th>\n",
       "      <td>2006.0</td>\n",
       "      <td>Addis Ababa</td>\n",
       "      <td>0.0</td>\n",
       "      <td>1322.667343</td>\n",
       "      <td>196.259808</td>\n",
       "    </tr>\n",
       "    <tr>\n",
       "      <th>3</th>\n",
       "      <td>2006.0</td>\n",
       "      <td>Kampala</td>\n",
       "      <td>0.0</td>\n",
       "      <td>1305.716520</td>\n",
       "      <td>217.174981</td>\n",
       "    </tr>\n",
       "    <tr>\n",
       "      <th>4</th>\n",
       "      <td>2007.0</td>\n",
       "      <td>Addis Ababa</td>\n",
       "      <td>0.0</td>\n",
       "      <td>1261.028727</td>\n",
       "      <td>196.757737</td>\n",
       "    </tr>\n",
       "  </tbody>\n",
       "</table>\n",
       "</div>"
      ],
      "text/plain": [
       "     year         city  flood_water_extent_(km^2)  rainfall_mm  \\\n",
       "0  2005.0  Addis Ababa                        0.0  1174.917609   \n",
       "1  2005.0      Kampala                        0.0  1102.198519   \n",
       "2  2006.0  Addis Ababa                        0.0  1322.667343   \n",
       "3  2006.0      Kampala                        0.0  1305.716520   \n",
       "4  2007.0  Addis Ababa                        0.0  1261.028727   \n",
       "\n",
       "   urban_area_sqkm  \n",
       "0       194.268098  \n",
       "1       212.943976  \n",
       "2       196.259808  \n",
       "3       217.174981  \n",
       "4       196.757737  "
      ]
     },
     "execution_count": 13,
     "metadata": {},
     "output_type": "execute_result"
    }
   ],
   "source": [
    "# Keep only rows where year is 2005 or later\n",
    "merged_data = merged_data[merged_data[\"year\"] >= 2005].reset_index(drop=True)\n",
    "\n",
    "merged_data.head()"
   ]
  },
  {
   "cell_type": "code",
   "execution_count": null,
   "id": "c43c450b",
   "metadata": {},
   "outputs": [],
   "source": [
    "# Saving the cleaned data to a new CSV file\n",
    "merged_data.to_csv(\"Merged_Flood_Rainfall_Urban_Extent_2005_2025.csv\", index=False)"
   ]
  }
 ],
 "metadata": {
  "kernelspec": {
   "display_name": "Python 3",
   "language": "python",
   "name": "python3"
  },
  "language_info": {
   "codemirror_mode": {
    "name": "ipython",
    "version": 3
   },
   "file_extension": ".py",
   "mimetype": "text/x-python",
   "name": "python",
   "nbconvert_exporter": "python",
   "pygments_lexer": "ipython3",
   "version": "3.13.2"
  }
 },
 "nbformat": 4,
 "nbformat_minor": 5
}
