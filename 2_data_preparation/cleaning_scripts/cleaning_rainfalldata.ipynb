{
 "cells": [
  {
   "cell_type": "markdown",
   "id": "28a9bf38",
   "metadata": {},
   "source": [
    "# Cleaning Rainfall Data\n",
    "\n",
    "This notebook cleans the dataset of rainfall"
   ]
  },
  {
   "cell_type": "code",
   "execution_count": null,
   "id": "08d8aab9",
   "metadata": {},
   "outputs": [],
   "source": [
    "import pandas as pd\n",
    "\n",
    "df = pd.read_csv(\"Rainfall_Data.csv\")"
   ]
  },
  {
   "cell_type": "code",
   "execution_count": 9,
   "id": "d9e0d479",
   "metadata": {},
   "outputs": [
    {
     "data": {
      "text/html": [
       "<div>\n",
       "<style scoped>\n",
       "    .dataframe tbody tr th:only-of-type {\n",
       "        vertical-align: middle;\n",
       "    }\n",
       "\n",
       "    .dataframe tbody tr th {\n",
       "        vertical-align: top;\n",
       "    }\n",
       "\n",
       "    .dataframe thead th {\n",
       "        text-align: right;\n",
       "    }\n",
       "</style>\n",
       "<table border=\"1\" class=\"dataframe\">\n",
       "  <thead>\n",
       "    <tr style=\"text-align: right;\">\n",
       "      <th></th>\n",
       "      <th>City</th>\n",
       "      <th>Date</th>\n",
       "      <th>Year</th>\n",
       "      <th>Month</th>\n",
       "      <th>Rainfall_mm</th>\n",
       "    </tr>\n",
       "  </thead>\n",
       "  <tbody>\n",
       "    <tr>\n",
       "      <th>0</th>\n",
       "      <td>Kampala</td>\n",
       "      <td>2005-01-01</td>\n",
       "      <td>2005</td>\n",
       "      <td>1</td>\n",
       "      <td>41.632484</td>\n",
       "    </tr>\n",
       "    <tr>\n",
       "      <th>1</th>\n",
       "      <td>Addis Ababa</td>\n",
       "      <td>2005-01-01</td>\n",
       "      <td>2005</td>\n",
       "      <td>1</td>\n",
       "      <td>44.480564</td>\n",
       "    </tr>\n",
       "    <tr>\n",
       "      <th>2</th>\n",
       "      <td>Kampala</td>\n",
       "      <td>2005-02-01</td>\n",
       "      <td>2005</td>\n",
       "      <td>2</td>\n",
       "      <td>28.327267</td>\n",
       "    </tr>\n",
       "    <tr>\n",
       "      <th>3</th>\n",
       "      <td>Addis Ababa</td>\n",
       "      <td>2005-02-01</td>\n",
       "      <td>2005</td>\n",
       "      <td>2</td>\n",
       "      <td>19.762764</td>\n",
       "    </tr>\n",
       "    <tr>\n",
       "      <th>4</th>\n",
       "      <td>Kampala</td>\n",
       "      <td>2005-03-01</td>\n",
       "      <td>2005</td>\n",
       "      <td>3</td>\n",
       "      <td>154.920380</td>\n",
       "    </tr>\n",
       "  </tbody>\n",
       "</table>\n",
       "</div>"
      ],
      "text/plain": [
       "          City        Date  Year  Month  Rainfall_mm\n",
       "0      Kampala  2005-01-01  2005      1    41.632484\n",
       "1  Addis Ababa  2005-01-01  2005      1    44.480564\n",
       "2      Kampala  2005-02-01  2005      2    28.327267\n",
       "3  Addis Ababa  2005-02-01  2005      2    19.762764\n",
       "4      Kampala  2005-03-01  2005      3   154.920380"
      ]
     },
     "execution_count": 9,
     "metadata": {},
     "output_type": "execute_result"
    }
   ],
   "source": [
    "df.head()"
   ]
  },
  {
   "cell_type": "code",
   "execution_count": 14,
   "id": "3f710ad2",
   "metadata": {},
   "outputs": [
    {
     "data": {
      "text/plain": [
       "Index(['City', 'Date', 'Year', 'Month', 'Rainfall_mm'], dtype='object')"
      ]
     },
     "execution_count": 14,
     "metadata": {},
     "output_type": "execute_result"
    }
   ],
   "source": [
    "df.columns"
   ]
  },
  {
   "cell_type": "markdown",
   "id": "fb05bde1",
   "metadata": {},
   "source": [
    "I'm going to remove the columns, **'Date and month'** as it's just repetitions of the column **'Date'** and then re-order the columns so they can appear as \"**`Year, City, Rainfall_mm`**\""
   ]
  },
  {
   "cell_type": "code",
   "execution_count": null,
   "id": "627f034d",
   "metadata": {},
   "outputs": [
    {
     "data": {
      "text/html": [
       "<div>\n",
       "<style scoped>\n",
       "    .dataframe tbody tr th:only-of-type {\n",
       "        vertical-align: middle;\n",
       "    }\n",
       "\n",
       "    .dataframe tbody tr th {\n",
       "        vertical-align: top;\n",
       "    }\n",
       "\n",
       "    .dataframe thead th {\n",
       "        text-align: right;\n",
       "    }\n",
       "</style>\n",
       "<table border=\"1\" class=\"dataframe\">\n",
       "  <thead>\n",
       "    <tr style=\"text-align: right;\">\n",
       "      <th></th>\n",
       "      <th>City</th>\n",
       "      <th>Year</th>\n",
       "      <th>Rainfall_mm</th>\n",
       "    </tr>\n",
       "  </thead>\n",
       "  <tbody>\n",
       "    <tr>\n",
       "      <th>0</th>\n",
       "      <td>Addis Ababa</td>\n",
       "      <td>2005</td>\n",
       "      <td>1174.917609</td>\n",
       "    </tr>\n",
       "    <tr>\n",
       "      <th>1</th>\n",
       "      <td>Kampala</td>\n",
       "      <td>2005</td>\n",
       "      <td>1102.198519</td>\n",
       "    </tr>\n",
       "    <tr>\n",
       "      <th>2</th>\n",
       "      <td>Addis Ababa</td>\n",
       "      <td>2006</td>\n",
       "      <td>1322.667343</td>\n",
       "    </tr>\n",
       "    <tr>\n",
       "      <th>3</th>\n",
       "      <td>Kampala</td>\n",
       "      <td>2006</td>\n",
       "      <td>1305.716520</td>\n",
       "    </tr>\n",
       "    <tr>\n",
       "      <th>4</th>\n",
       "      <td>Addis Ababa</td>\n",
       "      <td>2007</td>\n",
       "      <td>1261.028727</td>\n",
       "    </tr>\n",
       "  </tbody>\n",
       "</table>\n",
       "</div>"
      ],
      "text/plain": [
       "          City  Year  Rainfall_mm\n",
       "0  Addis Ababa  2005  1174.917609\n",
       "1      Kampala  2005  1102.198519\n",
       "2  Addis Ababa  2006  1322.667343\n",
       "3      Kampala  2006  1305.716520\n",
       "4  Addis Ababa  2007  1261.028727"
      ]
     },
     "execution_count": 18,
     "metadata": {},
     "output_type": "execute_result"
    }
   ],
   "source": [
    "# Dropping the 'Date and month' column as it is redundant\n",
    "df = df.drop([\"Date\", \"Month\"], axis=1)\n",
    "\n",
    "# Group by City and Year, then sum the Rainfall_mm\n",
    "yearly_rainfall = df.groupby([\"City\", \"Year\"])[\"Rainfall_mm\"].sum().reset_index()\n",
    "\n",
    "\n",
    "# Sort by Year First, then by City\n",
    "yearly_rainfall = yearly_rainfall.sort_values(by=[\"Year\", \"City\"]).reset_index(\n",
    "    drop=True\n",
    ")\n",
    "\n",
    "# Display the result\n",
    "yearly_rainfall.head()"
   ]
  },
  {
   "cell_type": "code",
   "execution_count": 19,
   "id": "eaf829bb",
   "metadata": {},
   "outputs": [
    {
     "data": {
      "text/html": [
       "<div>\n",
       "<style scoped>\n",
       "    .dataframe tbody tr th:only-of-type {\n",
       "        vertical-align: middle;\n",
       "    }\n",
       "\n",
       "    .dataframe tbody tr th {\n",
       "        vertical-align: top;\n",
       "    }\n",
       "\n",
       "    .dataframe thead th {\n",
       "        text-align: right;\n",
       "    }\n",
       "</style>\n",
       "<table border=\"1\" class=\"dataframe\">\n",
       "  <thead>\n",
       "    <tr style=\"text-align: right;\">\n",
       "      <th></th>\n",
       "      <th>Year</th>\n",
       "      <th>City</th>\n",
       "      <th>Rainfall_mm</th>\n",
       "    </tr>\n",
       "  </thead>\n",
       "  <tbody>\n",
       "    <tr>\n",
       "      <th>0</th>\n",
       "      <td>2005</td>\n",
       "      <td>Addis Ababa</td>\n",
       "      <td>1174.917609</td>\n",
       "    </tr>\n",
       "    <tr>\n",
       "      <th>1</th>\n",
       "      <td>2005</td>\n",
       "      <td>Kampala</td>\n",
       "      <td>1102.198519</td>\n",
       "    </tr>\n",
       "    <tr>\n",
       "      <th>2</th>\n",
       "      <td>2006</td>\n",
       "      <td>Addis Ababa</td>\n",
       "      <td>1322.667343</td>\n",
       "    </tr>\n",
       "    <tr>\n",
       "      <th>3</th>\n",
       "      <td>2006</td>\n",
       "      <td>Kampala</td>\n",
       "      <td>1305.716520</td>\n",
       "    </tr>\n",
       "    <tr>\n",
       "      <th>4</th>\n",
       "      <td>2007</td>\n",
       "      <td>Addis Ababa</td>\n",
       "      <td>1261.028727</td>\n",
       "    </tr>\n",
       "  </tbody>\n",
       "</table>\n",
       "</div>"
      ],
      "text/plain": [
       "   Year         City  Rainfall_mm\n",
       "0  2005  Addis Ababa  1174.917609\n",
       "1  2005      Kampala  1102.198519\n",
       "2  2006  Addis Ababa  1322.667343\n",
       "3  2006      Kampala  1305.716520\n",
       "4  2007  Addis Ababa  1261.028727"
      ]
     },
     "execution_count": 19,
     "metadata": {},
     "output_type": "execute_result"
    }
   ],
   "source": [
    "# Reordering the columns to have 'Year', 'City', 'Rainfall_mm'\n",
    "yearly_rainfall = yearly_rainfall[[\"Year\", \"City\", \"Rainfall_mm\"]]\n",
    "\n",
    "yearly_rainfall.head()"
   ]
  },
  {
   "cell_type": "code",
   "execution_count": 20,
   "id": "661c825f",
   "metadata": {},
   "outputs": [],
   "source": [
    "# Export the cleaned data to a new CSV file\n",
    "yearly_rainfall.to_csv(\"Cleaned_Rainfall_Data.csv\", index=False)"
   ]
  }
 ],
 "metadata": {
  "kernelspec": {
   "display_name": "Python 3",
   "language": "python",
   "name": "python3"
  },
  "language_info": {
   "codemirror_mode": {
    "name": "ipython",
    "version": 3
   },
   "file_extension": ".py",
   "mimetype": "text/x-python",
   "name": "python",
   "nbconvert_exporter": "python",
   "pygments_lexer": "ipython3",
   "version": "3.13.2"
  }
 },
 "nbformat": 4,
 "nbformat_minor": 5
}
