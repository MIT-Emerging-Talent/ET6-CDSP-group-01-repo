{
 "cells": [
  {
   "cell_type": "markdown",
   "id": "28a9bf38",
   "metadata": {},
   "source": [
    "# Cleaning Rainfall Data\n",
    "\n",
    "This notebook cleans the dataset of rainfall"
   ]
  },
  {
   "cell_type": "code",
   "execution_count": 14,
   "id": "08d8aab9",
   "metadata": {},
   "outputs": [],
   "source": [
    "import pandas as pd\n",
    "\n",
    "df = pd.read_csv(\"Rainfall_Data.csv\")"
   ]
  },
  {
   "cell_type": "code",
   "execution_count": 15,
   "id": "d9e0d479",
   "metadata": {},
   "outputs": [
    {
     "data": {
      "application/vnd.microsoft.datawrangler.viewer.v0+json": {
       "columns": [
        {
         "name": "index",
         "rawType": "int64",
         "type": "integer"
        },
        {
         "name": "City",
         "rawType": "object",
         "type": "string"
        },
        {
         "name": "Date",
         "rawType": "object",
         "type": "string"
        },
        {
         "name": "Year",
         "rawType": "int64",
         "type": "integer"
        },
        {
         "name": "Month",
         "rawType": "int64",
         "type": "integer"
        },
        {
         "name": "Rainfall_mm",
         "rawType": "float64",
         "type": "float"
        }
       ],
       "ref": "4f6a637e-9010-410a-b4d6-e7df843dd2bc",
       "rows": [
        [
         "0",
         "Kampala",
         "2005-01-01",
         "2005",
         "1",
         "41.632484"
        ],
        [
         "1",
         "Addis Ababa",
         "2005-01-01",
         "2005",
         "1",
         "44.480564"
        ],
        [
         "2",
         "Kampala",
         "2005-02-01",
         "2005",
         "2",
         "28.327267"
        ],
        [
         "3",
         "Addis Ababa",
         "2005-02-01",
         "2005",
         "2",
         "19.762764"
        ],
        [
         "4",
         "Kampala",
         "2005-03-01",
         "2005",
         "3",
         "154.92038"
        ]
       ],
       "shape": {
        "columns": 5,
        "rows": 5
       }
      },
      "text/html": [
       "<div>\n",
       "<style scoped>\n",
       "    .dataframe tbody tr th:only-of-type {\n",
       "        vertical-align: middle;\n",
       "    }\n",
       "\n",
       "    .dataframe tbody tr th {\n",
       "        vertical-align: top;\n",
       "    }\n",
       "\n",
       "    .dataframe thead th {\n",
       "        text-align: right;\n",
       "    }\n",
       "</style>\n",
       "<table border=\"1\" class=\"dataframe\">\n",
       "  <thead>\n",
       "    <tr style=\"text-align: right;\">\n",
       "      <th></th>\n",
       "      <th>City</th>\n",
       "      <th>Date</th>\n",
       "      <th>Year</th>\n",
       "      <th>Month</th>\n",
       "      <th>Rainfall_mm</th>\n",
       "    </tr>\n",
       "  </thead>\n",
       "  <tbody>\n",
       "    <tr>\n",
       "      <th>0</th>\n",
       "      <td>Kampala</td>\n",
       "      <td>2005-01-01</td>\n",
       "      <td>2005</td>\n",
       "      <td>1</td>\n",
       "      <td>41.632484</td>\n",
       "    </tr>\n",
       "    <tr>\n",
       "      <th>1</th>\n",
       "      <td>Addis Ababa</td>\n",
       "      <td>2005-01-01</td>\n",
       "      <td>2005</td>\n",
       "      <td>1</td>\n",
       "      <td>44.480564</td>\n",
       "    </tr>\n",
       "    <tr>\n",
       "      <th>2</th>\n",
       "      <td>Kampala</td>\n",
       "      <td>2005-02-01</td>\n",
       "      <td>2005</td>\n",
       "      <td>2</td>\n",
       "      <td>28.327267</td>\n",
       "    </tr>\n",
       "    <tr>\n",
       "      <th>3</th>\n",
       "      <td>Addis Ababa</td>\n",
       "      <td>2005-02-01</td>\n",
       "      <td>2005</td>\n",
       "      <td>2</td>\n",
       "      <td>19.762764</td>\n",
       "    </tr>\n",
       "    <tr>\n",
       "      <th>4</th>\n",
       "      <td>Kampala</td>\n",
       "      <td>2005-03-01</td>\n",
       "      <td>2005</td>\n",
       "      <td>3</td>\n",
       "      <td>154.920380</td>\n",
       "    </tr>\n",
       "  </tbody>\n",
       "</table>\n",
       "</div>"
      ],
      "text/plain": [
       "          City        Date  Year  Month  Rainfall_mm\n",
       "0      Kampala  2005-01-01  2005      1    41.632484\n",
       "1  Addis Ababa  2005-01-01  2005      1    44.480564\n",
       "2      Kampala  2005-02-01  2005      2    28.327267\n",
       "3  Addis Ababa  2005-02-01  2005      2    19.762764\n",
       "4      Kampala  2005-03-01  2005      3   154.920380"
      ]
     },
     "execution_count": 15,
     "metadata": {},
     "output_type": "execute_result"
    }
   ],
   "source": [
    "df.head()"
   ]
  },
  {
   "cell_type": "code",
   "execution_count": 16,
   "id": "3f710ad2",
   "metadata": {},
   "outputs": [
    {
     "data": {
      "text/plain": [
       "Index(['City', 'Date', 'Year', 'Month', 'Rainfall_mm'], dtype='object')"
      ]
     },
     "execution_count": 16,
     "metadata": {},
     "output_type": "execute_result"
    }
   ],
   "source": [
    "df.columns"
   ]
  },
  {
   "cell_type": "markdown",
   "id": "fb05bde1",
   "metadata": {},
   "source": [
    "I'm going to remove the columns, **'Date and month'** as it's just repetitions of the column **'Date'** and then re-order the columns so they can appear as \"**`Year, City, Rainfall_mm`**\""
   ]
  },
  {
   "cell_type": "code",
   "execution_count": 17,
   "id": "627f034d",
   "metadata": {},
   "outputs": [
    {
     "data": {
      "application/vnd.microsoft.datawrangler.viewer.v0+json": {
       "columns": [
        {
         "name": "index",
         "rawType": "int64",
         "type": "integer"
        },
        {
         "name": "City",
         "rawType": "object",
         "type": "string"
        },
        {
         "name": "Year",
         "rawType": "int64",
         "type": "integer"
        },
        {
         "name": "Rainfall_mm",
         "rawType": "float64",
         "type": "float"
        }
       ],
       "ref": "e3d3ea6c-5471-49a1-a3dd-9d868e7e5975",
       "rows": [
        [
         "0",
         "Addis Ababa",
         "2005",
         "1174.917609"
        ],
        [
         "1",
         "Kampala",
         "2005",
         "1102.198519"
        ],
        [
         "2",
         "Addis Ababa",
         "2006",
         "1322.667343"
        ],
        [
         "3",
         "Kampala",
         "2006",
         "1305.71652"
        ],
        [
         "4",
         "Addis Ababa",
         "2007",
         "1261.0287273000001"
        ]
       ],
       "shape": {
        "columns": 3,
        "rows": 5
       }
      },
      "text/html": [
       "<div>\n",
       "<style scoped>\n",
       "    .dataframe tbody tr th:only-of-type {\n",
       "        vertical-align: middle;\n",
       "    }\n",
       "\n",
       "    .dataframe tbody tr th {\n",
       "        vertical-align: top;\n",
       "    }\n",
       "\n",
       "    .dataframe thead th {\n",
       "        text-align: right;\n",
       "    }\n",
       "</style>\n",
       "<table border=\"1\" class=\"dataframe\">\n",
       "  <thead>\n",
       "    <tr style=\"text-align: right;\">\n",
       "      <th></th>\n",
       "      <th>City</th>\n",
       "      <th>Year</th>\n",
       "      <th>Rainfall_mm</th>\n",
       "    </tr>\n",
       "  </thead>\n",
       "  <tbody>\n",
       "    <tr>\n",
       "      <th>0</th>\n",
       "      <td>Addis Ababa</td>\n",
       "      <td>2005</td>\n",
       "      <td>1174.917609</td>\n",
       "    </tr>\n",
       "    <tr>\n",
       "      <th>1</th>\n",
       "      <td>Kampala</td>\n",
       "      <td>2005</td>\n",
       "      <td>1102.198519</td>\n",
       "    </tr>\n",
       "    <tr>\n",
       "      <th>2</th>\n",
       "      <td>Addis Ababa</td>\n",
       "      <td>2006</td>\n",
       "      <td>1322.667343</td>\n",
       "    </tr>\n",
       "    <tr>\n",
       "      <th>3</th>\n",
       "      <td>Kampala</td>\n",
       "      <td>2006</td>\n",
       "      <td>1305.716520</td>\n",
       "    </tr>\n",
       "    <tr>\n",
       "      <th>4</th>\n",
       "      <td>Addis Ababa</td>\n",
       "      <td>2007</td>\n",
       "      <td>1261.028727</td>\n",
       "    </tr>\n",
       "  </tbody>\n",
       "</table>\n",
       "</div>"
      ],
      "text/plain": [
       "          City  Year  Rainfall_mm\n",
       "0  Addis Ababa  2005  1174.917609\n",
       "1      Kampala  2005  1102.198519\n",
       "2  Addis Ababa  2006  1322.667343\n",
       "3      Kampala  2006  1305.716520\n",
       "4  Addis Ababa  2007  1261.028727"
      ]
     },
     "execution_count": 17,
     "metadata": {},
     "output_type": "execute_result"
    }
   ],
   "source": [
    "# Dropping the 'Date and month' column as it is redundant\n",
    "df = df.drop([\"Date\", \"Month\"], axis=1)\n",
    "\n",
    "# Group by City and Year, then sum the Rainfall_mm\n",
    "yearly_rainfall = df.groupby([\"City\", \"Year\"])[\"Rainfall_mm\"].sum().reset_index()\n",
    "\n",
    "\n",
    "# Arranging the rows of each city in ascending order of Year\n",
    "yearly_rainfall = yearly_rainfall.sort_values(by=[\"Year\", \"City\"]).reset_index(\n",
    "    drop=True\n",
    ")\n",
    "\n",
    "# Display the result\n",
    "yearly_rainfall.head()"
   ]
  },
  {
   "cell_type": "code",
   "execution_count": 18,
   "id": "eaf829bb",
   "metadata": {},
   "outputs": [
    {
     "data": {
      "application/vnd.microsoft.datawrangler.viewer.v0+json": {
       "columns": [
        {
         "name": "index",
         "rawType": "int64",
         "type": "integer"
        },
        {
         "name": "Year",
         "rawType": "int64",
         "type": "integer"
        },
        {
         "name": "City",
         "rawType": "object",
         "type": "string"
        },
        {
         "name": "Rainfall_mm",
         "rawType": "float64",
         "type": "float"
        }
       ],
       "ref": "d6b63750-2d36-4f8f-be95-159210b86da5",
       "rows": [
        [
         "0",
         "2005",
         "Addis Ababa",
         "1174.917609"
        ],
        [
         "1",
         "2005",
         "Kampala",
         "1102.198519"
        ],
        [
         "2",
         "2006",
         "Addis Ababa",
         "1322.667343"
        ],
        [
         "3",
         "2006",
         "Kampala",
         "1305.71652"
        ],
        [
         "4",
         "2007",
         "Addis Ababa",
         "1261.0287273000001"
        ]
       ],
       "shape": {
        "columns": 3,
        "rows": 5
       }
      },
      "text/html": [
       "<div>\n",
       "<style scoped>\n",
       "    .dataframe tbody tr th:only-of-type {\n",
       "        vertical-align: middle;\n",
       "    }\n",
       "\n",
       "    .dataframe tbody tr th {\n",
       "        vertical-align: top;\n",
       "    }\n",
       "\n",
       "    .dataframe thead th {\n",
       "        text-align: right;\n",
       "    }\n",
       "</style>\n",
       "<table border=\"1\" class=\"dataframe\">\n",
       "  <thead>\n",
       "    <tr style=\"text-align: right;\">\n",
       "      <th></th>\n",
       "      <th>Year</th>\n",
       "      <th>City</th>\n",
       "      <th>Rainfall_mm</th>\n",
       "    </tr>\n",
       "  </thead>\n",
       "  <tbody>\n",
       "    <tr>\n",
       "      <th>0</th>\n",
       "      <td>2005</td>\n",
       "      <td>Addis Ababa</td>\n",
       "      <td>1174.917609</td>\n",
       "    </tr>\n",
       "    <tr>\n",
       "      <th>1</th>\n",
       "      <td>2005</td>\n",
       "      <td>Kampala</td>\n",
       "      <td>1102.198519</td>\n",
       "    </tr>\n",
       "    <tr>\n",
       "      <th>2</th>\n",
       "      <td>2006</td>\n",
       "      <td>Addis Ababa</td>\n",
       "      <td>1322.667343</td>\n",
       "    </tr>\n",
       "    <tr>\n",
       "      <th>3</th>\n",
       "      <td>2006</td>\n",
       "      <td>Kampala</td>\n",
       "      <td>1305.716520</td>\n",
       "    </tr>\n",
       "    <tr>\n",
       "      <th>4</th>\n",
       "      <td>2007</td>\n",
       "      <td>Addis Ababa</td>\n",
       "      <td>1261.028727</td>\n",
       "    </tr>\n",
       "  </tbody>\n",
       "</table>\n",
       "</div>"
      ],
      "text/plain": [
       "   Year         City  Rainfall_mm\n",
       "0  2005  Addis Ababa  1174.917609\n",
       "1  2005      Kampala  1102.198519\n",
       "2  2006  Addis Ababa  1322.667343\n",
       "3  2006      Kampala  1305.716520\n",
       "4  2007  Addis Ababa  1261.028727"
      ]
     },
     "execution_count": 18,
     "metadata": {},
     "output_type": "execute_result"
    }
   ],
   "source": [
    "# Reordering the columns to have 'Year', 'City', 'Rainfall_mm'\n",
    "yearly_rainfall = yearly_rainfall[[\"Year\", \"City\", \"Rainfall_mm\"]]\n",
    "\n",
    "yearly_rainfall.head()"
   ]
  },
  {
   "cell_type": "code",
   "execution_count": 19,
   "id": "b97c90a7",
   "metadata": {},
   "outputs": [
    {
     "data": {
      "application/vnd.microsoft.datawrangler.viewer.v0+json": {
       "columns": [
        {
         "name": "index",
         "rawType": "int64",
         "type": "integer"
        },
        {
         "name": "Year",
         "rawType": "int64",
         "type": "integer"
        },
        {
         "name": "City",
         "rawType": "object",
         "type": "string"
        },
        {
         "name": "Rainfall_mm",
         "rawType": "float64",
         "type": "float"
        }
       ],
       "ref": "e0a7ac2f-ca8a-41fd-b5d4-eb73dbc9bfa9",
       "rows": [
        [
         "20",
         "2015",
         "Addis Ababa",
         "768.0094281"
        ],
        [
         "21",
         "2015",
         "Kampala",
         "1271.579796"
        ],
        [
         "22",
         "2016",
         "Addis Ababa",
         "1164.3808206"
        ],
        [
         "23",
         "2016",
         "Kampala",
         "1051.015188"
        ],
        [
         "24",
         "2017",
         "Addis Ababa",
         "1299.1030627"
        ]
       ],
       "shape": {
        "columns": 3,
        "rows": 5
       }
      },
      "text/html": [
       "<div>\n",
       "<style scoped>\n",
       "    .dataframe tbody tr th:only-of-type {\n",
       "        vertical-align: middle;\n",
       "    }\n",
       "\n",
       "    .dataframe tbody tr th {\n",
       "        vertical-align: top;\n",
       "    }\n",
       "\n",
       "    .dataframe thead th {\n",
       "        text-align: right;\n",
       "    }\n",
       "</style>\n",
       "<table border=\"1\" class=\"dataframe\">\n",
       "  <thead>\n",
       "    <tr style=\"text-align: right;\">\n",
       "      <th></th>\n",
       "      <th>Year</th>\n",
       "      <th>City</th>\n",
       "      <th>Rainfall_mm</th>\n",
       "    </tr>\n",
       "  </thead>\n",
       "  <tbody>\n",
       "    <tr>\n",
       "      <th>20</th>\n",
       "      <td>2015</td>\n",
       "      <td>Addis Ababa</td>\n",
       "      <td>768.009428</td>\n",
       "    </tr>\n",
       "    <tr>\n",
       "      <th>21</th>\n",
       "      <td>2015</td>\n",
       "      <td>Kampala</td>\n",
       "      <td>1271.579796</td>\n",
       "    </tr>\n",
       "    <tr>\n",
       "      <th>22</th>\n",
       "      <td>2016</td>\n",
       "      <td>Addis Ababa</td>\n",
       "      <td>1164.380821</td>\n",
       "    </tr>\n",
       "    <tr>\n",
       "      <th>23</th>\n",
       "      <td>2016</td>\n",
       "      <td>Kampala</td>\n",
       "      <td>1051.015188</td>\n",
       "    </tr>\n",
       "    <tr>\n",
       "      <th>24</th>\n",
       "      <td>2017</td>\n",
       "      <td>Addis Ababa</td>\n",
       "      <td>1299.103063</td>\n",
       "    </tr>\n",
       "  </tbody>\n",
       "</table>\n",
       "</div>"
      ],
      "text/plain": [
       "    Year         City  Rainfall_mm\n",
       "20  2015  Addis Ababa   768.009428\n",
       "21  2015      Kampala  1271.579796\n",
       "22  2016  Addis Ababa  1164.380821\n",
       "23  2016      Kampala  1051.015188\n",
       "24  2017  Addis Ababa  1299.103063"
      ]
     },
     "execution_count": 19,
     "metadata": {},
     "output_type": "execute_result"
    }
   ],
   "source": [
    "# keep only rows starting from 2015 to 2020\n",
    "yearly_rainfall = yearly_rainfall[\n",
    "    (yearly_rainfall[\"Year\"] >= 2015) & (yearly_rainfall[\"Year\"] <= 2020)\n",
    "]\n",
    "# Display the final result\n",
    "yearly_rainfall.head()"
   ]
  },
  {
   "cell_type": "code",
   "execution_count": 20,
   "id": "661c825f",
   "metadata": {},
   "outputs": [],
   "source": [
    "# Export the cleaned data to a new CSV file\n",
    "yearly_rainfall.to_csv(\"cleaned_rainfall_data.csv\", index=False)"
   ]
  }
 ],
 "metadata": {
  "kernelspec": {
   "display_name": "Python 3",
   "language": "python",
   "name": "python3"
  },
  "language_info": {
   "codemirror_mode": {
    "name": "ipython",
    "version": 3
   },
   "file_extension": ".py",
   "mimetype": "text/x-python",
   "name": "python",
   "nbconvert_exporter": "python",
   "pygments_lexer": "ipython3",
   "version": "3.13.2"
  }
 },
 "nbformat": 4,
 "nbformat_minor": 5
}
