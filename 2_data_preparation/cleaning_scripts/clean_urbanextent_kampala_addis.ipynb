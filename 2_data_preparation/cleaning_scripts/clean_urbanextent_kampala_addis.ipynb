{
 "cells": [
  {
   "cell_type": "markdown",
   "id": "73a314a8",
   "metadata": {},
   "source": [
    "# Cleaning Urban Extent Data for Kampala and Addis Ababa\n",
    "\n",
    "This notebook is for cleaning the urban extent data for Kampala and Addis Ababa."
   ]
  },
  {
   "cell_type": "code",
   "execution_count": 1,
   "id": "8be9a4f2",
   "metadata": {},
   "outputs": [],
   "source": [
    "import pandas as pd\n",
    "\n",
    "df = pd.read_csv(\"UrbanExtent_Kampala_Addis_2001_2025.csv\")"
   ]
  },
  {
   "cell_type": "code",
   "execution_count": 2,
   "id": "45c48887",
   "metadata": {},
   "outputs": [
    {
     "data": {
      "application/vnd.microsoft.datawrangler.viewer.v0+json": {
       "columns": [
        {
         "name": "index",
         "rawType": "int64",
         "type": "integer"
        },
        {
         "name": "system:index",
         "rawType": "object",
         "type": "string"
        },
        {
         "name": "city",
         "rawType": "object",
         "type": "string"
        },
        {
         "name": "source",
         "rawType": "object",
         "type": "string"
        },
        {
         "name": "urban_area_sqkm",
         "rawType": "float64",
         "type": "float"
        },
        {
         "name": "year",
         "rawType": "float64",
         "type": "float"
        },
        {
         "name": ".geo",
         "rawType": "object",
         "type": "string"
        }
       ],
       "ref": "3b0b57ac-8dcc-4236-b7cd-70bd5179e52d",
       "rows": [
        [
         "0",
         "1_1_1_2001_01_01",
         "Kampala",
         "MODIS",
         "186.0646509253064",
         "2001.0",
         "{\"type\":\"MultiPoint\",\"coordinates\":[]}"
        ],
        [
         "1",
         "1_1_1_2002_01_01",
         "Kampala",
         "MODIS",
         "189.05124250343135",
         "2002.0",
         "{\"type\":\"MultiPoint\",\"coordinates\":[]}"
        ],
        [
         "2",
         "1_1_1_2003_01_01",
         "Kampala",
         "MODIS",
         "197.2643692065564",
         "2003.0",
         "{\"type\":\"MultiPoint\",\"coordinates\":[]}"
        ],
        [
         "3",
         "1_1_1_2004_01_01",
         "Kampala",
         "MODIS",
         "204.9797308315564",
         "2004.0",
         "{\"type\":\"MultiPoint\",\"coordinates\":[]}"
        ],
        [
         "4",
         "1_1_1_2005_01_01",
         "Kampala",
         "MODIS",
         "212.9439756440564",
         "2005.0",
         "{\"type\":\"MultiPoint\",\"coordinates\":[]}"
        ]
       ],
       "shape": {
        "columns": 6,
        "rows": 5
       }
      },
      "text/html": [
       "<div>\n",
       "<style scoped>\n",
       "    .dataframe tbody tr th:only-of-type {\n",
       "        vertical-align: middle;\n",
       "    }\n",
       "\n",
       "    .dataframe tbody tr th {\n",
       "        vertical-align: top;\n",
       "    }\n",
       "\n",
       "    .dataframe thead th {\n",
       "        text-align: right;\n",
       "    }\n",
       "</style>\n",
       "<table border=\"1\" class=\"dataframe\">\n",
       "  <thead>\n",
       "    <tr style=\"text-align: right;\">\n",
       "      <th></th>\n",
       "      <th>system:index</th>\n",
       "      <th>city</th>\n",
       "      <th>source</th>\n",
       "      <th>urban_area_sqkm</th>\n",
       "      <th>year</th>\n",
       "      <th>.geo</th>\n",
       "    </tr>\n",
       "  </thead>\n",
       "  <tbody>\n",
       "    <tr>\n",
       "      <th>0</th>\n",
       "      <td>1_1_1_2001_01_01</td>\n",
       "      <td>Kampala</td>\n",
       "      <td>MODIS</td>\n",
       "      <td>186.064651</td>\n",
       "      <td>2001.0</td>\n",
       "      <td>{\"type\":\"MultiPoint\",\"coordinates\":[]}</td>\n",
       "    </tr>\n",
       "    <tr>\n",
       "      <th>1</th>\n",
       "      <td>1_1_1_2002_01_01</td>\n",
       "      <td>Kampala</td>\n",
       "      <td>MODIS</td>\n",
       "      <td>189.051243</td>\n",
       "      <td>2002.0</td>\n",
       "      <td>{\"type\":\"MultiPoint\",\"coordinates\":[]}</td>\n",
       "    </tr>\n",
       "    <tr>\n",
       "      <th>2</th>\n",
       "      <td>1_1_1_2003_01_01</td>\n",
       "      <td>Kampala</td>\n",
       "      <td>MODIS</td>\n",
       "      <td>197.264369</td>\n",
       "      <td>2003.0</td>\n",
       "      <td>{\"type\":\"MultiPoint\",\"coordinates\":[]}</td>\n",
       "    </tr>\n",
       "    <tr>\n",
       "      <th>3</th>\n",
       "      <td>1_1_1_2004_01_01</td>\n",
       "      <td>Kampala</td>\n",
       "      <td>MODIS</td>\n",
       "      <td>204.979731</td>\n",
       "      <td>2004.0</td>\n",
       "      <td>{\"type\":\"MultiPoint\",\"coordinates\":[]}</td>\n",
       "    </tr>\n",
       "    <tr>\n",
       "      <th>4</th>\n",
       "      <td>1_1_1_2005_01_01</td>\n",
       "      <td>Kampala</td>\n",
       "      <td>MODIS</td>\n",
       "      <td>212.943976</td>\n",
       "      <td>2005.0</td>\n",
       "      <td>{\"type\":\"MultiPoint\",\"coordinates\":[]}</td>\n",
       "    </tr>\n",
       "  </tbody>\n",
       "</table>\n",
       "</div>"
      ],
      "text/plain": [
       "       system:index     city source  urban_area_sqkm    year  \\\n",
       "0  1_1_1_2001_01_01  Kampala  MODIS       186.064651  2001.0   \n",
       "1  1_1_1_2002_01_01  Kampala  MODIS       189.051243  2002.0   \n",
       "2  1_1_1_2003_01_01  Kampala  MODIS       197.264369  2003.0   \n",
       "3  1_1_1_2004_01_01  Kampala  MODIS       204.979731  2004.0   \n",
       "4  1_1_1_2005_01_01  Kampala  MODIS       212.943976  2005.0   \n",
       "\n",
       "                                     .geo  \n",
       "0  {\"type\":\"MultiPoint\",\"coordinates\":[]}  \n",
       "1  {\"type\":\"MultiPoint\",\"coordinates\":[]}  \n",
       "2  {\"type\":\"MultiPoint\",\"coordinates\":[]}  \n",
       "3  {\"type\":\"MultiPoint\",\"coordinates\":[]}  \n",
       "4  {\"type\":\"MultiPoint\",\"coordinates\":[]}  "
      ]
     },
     "execution_count": 2,
     "metadata": {},
     "output_type": "execute_result"
    }
   ],
   "source": [
    "df.head()"
   ]
  },
  {
   "cell_type": "code",
   "execution_count": 3,
   "id": "679d1381",
   "metadata": {},
   "outputs": [
    {
     "data": {
      "text/plain": [
       "Index(['system:index', 'city', 'source', 'urban_area_sqkm', 'year', '.geo'], dtype='object')"
      ]
     },
     "execution_count": 3,
     "metadata": {},
     "output_type": "execute_result"
    }
   ],
   "source": [
    "df.columns"
   ]
  },
  {
   "cell_type": "markdown",
   "id": "0d557442",
   "metadata": {},
   "source": [
    "Removing columns, \"`system:index, source, .geo`\""
   ]
  },
  {
   "cell_type": "code",
   "execution_count": 4,
   "id": "58ef33e8",
   "metadata": {},
   "outputs": [
    {
     "data": {
      "application/vnd.microsoft.datawrangler.viewer.v0+json": {
       "columns": [
        {
         "name": "index",
         "rawType": "int64",
         "type": "integer"
        },
        {
         "name": "city",
         "rawType": "object",
         "type": "string"
        },
        {
         "name": "urban_area_sqkm",
         "rawType": "float64",
         "type": "float"
        },
        {
         "name": "year",
         "rawType": "float64",
         "type": "float"
        }
       ],
       "ref": "fc066b6d-7ffc-4c6b-a253-6edacc949622",
       "rows": [
        [
         "0",
         "Kampala",
         "186.0646509253064",
         "2001.0"
        ],
        [
         "1",
         "Kampala",
         "189.05124250343135",
         "2002.0"
        ],
        [
         "2",
         "Kampala",
         "197.2643692065564",
         "2003.0"
        ],
        [
         "3",
         "Kampala",
         "204.9797308315564",
         "2004.0"
        ],
        [
         "4",
         "Kampala",
         "212.9439756440564",
         "2005.0"
        ]
       ],
       "shape": {
        "columns": 3,
        "rows": 5
       }
      },
      "text/html": [
       "<div>\n",
       "<style scoped>\n",
       "    .dataframe tbody tr th:only-of-type {\n",
       "        vertical-align: middle;\n",
       "    }\n",
       "\n",
       "    .dataframe tbody tr th {\n",
       "        vertical-align: top;\n",
       "    }\n",
       "\n",
       "    .dataframe thead th {\n",
       "        text-align: right;\n",
       "    }\n",
       "</style>\n",
       "<table border=\"1\" class=\"dataframe\">\n",
       "  <thead>\n",
       "    <tr style=\"text-align: right;\">\n",
       "      <th></th>\n",
       "      <th>city</th>\n",
       "      <th>urban_area_sqkm</th>\n",
       "      <th>year</th>\n",
       "    </tr>\n",
       "  </thead>\n",
       "  <tbody>\n",
       "    <tr>\n",
       "      <th>0</th>\n",
       "      <td>Kampala</td>\n",
       "      <td>186.064651</td>\n",
       "      <td>2001.0</td>\n",
       "    </tr>\n",
       "    <tr>\n",
       "      <th>1</th>\n",
       "      <td>Kampala</td>\n",
       "      <td>189.051243</td>\n",
       "      <td>2002.0</td>\n",
       "    </tr>\n",
       "    <tr>\n",
       "      <th>2</th>\n",
       "      <td>Kampala</td>\n",
       "      <td>197.264369</td>\n",
       "      <td>2003.0</td>\n",
       "    </tr>\n",
       "    <tr>\n",
       "      <th>3</th>\n",
       "      <td>Kampala</td>\n",
       "      <td>204.979731</td>\n",
       "      <td>2004.0</td>\n",
       "    </tr>\n",
       "    <tr>\n",
       "      <th>4</th>\n",
       "      <td>Kampala</td>\n",
       "      <td>212.943976</td>\n",
       "      <td>2005.0</td>\n",
       "    </tr>\n",
       "  </tbody>\n",
       "</table>\n",
       "</div>"
      ],
      "text/plain": [
       "      city  urban_area_sqkm    year\n",
       "0  Kampala       186.064651  2001.0\n",
       "1  Kampala       189.051243  2002.0\n",
       "2  Kampala       197.264369  2003.0\n",
       "3  Kampala       204.979731  2004.0\n",
       "4  Kampala       212.943976  2005.0"
      ]
     },
     "execution_count": 4,
     "metadata": {},
     "output_type": "execute_result"
    }
   ],
   "source": [
    "# Dropping unnecessary columns\n",
    "df = df.drop(columns=[\"system:index\", \"source\", \".geo\"], axis=1)\n",
    "\n",
    "df.head()"
   ]
  },
  {
   "cell_type": "code",
   "execution_count": 5,
   "id": "52656493",
   "metadata": {},
   "outputs": [
    {
     "data": {
      "application/vnd.microsoft.datawrangler.viewer.v0+json": {
       "columns": [
        {
         "name": "index",
         "rawType": "int64",
         "type": "integer"
        },
        {
         "name": "city",
         "rawType": "object",
         "type": "string"
        },
        {
         "name": "urban_area_sqkm",
         "rawType": "float64",
         "type": "float"
        },
        {
         "name": "year",
         "rawType": "float64",
         "type": "float"
        }
       ],
       "ref": "ab2ed64e-af0c-4ee1-8759-45216fcbd3ad",
       "rows": [
        [
         "0",
         "Addis Ababa",
         "193.52120662659317",
         "2001.0"
        ],
        [
         "1",
         "Kampala",
         "186.0646509253064",
         "2001.0"
        ],
        [
         "2",
         "Addis Ababa",
         "193.52120662659317",
         "2002.0"
        ],
        [
         "3",
         "Kampala",
         "189.05124250343135",
         "2002.0"
        ],
        [
         "4",
         "Addis Ababa",
         "194.01913384534316",
         "2003.0"
        ]
       ],
       "shape": {
        "columns": 3,
        "rows": 5
       }
      },
      "text/html": [
       "<div>\n",
       "<style scoped>\n",
       "    .dataframe tbody tr th:only-of-type {\n",
       "        vertical-align: middle;\n",
       "    }\n",
       "\n",
       "    .dataframe tbody tr th {\n",
       "        vertical-align: top;\n",
       "    }\n",
       "\n",
       "    .dataframe thead th {\n",
       "        text-align: right;\n",
       "    }\n",
       "</style>\n",
       "<table border=\"1\" class=\"dataframe\">\n",
       "  <thead>\n",
       "    <tr style=\"text-align: right;\">\n",
       "      <th></th>\n",
       "      <th>city</th>\n",
       "      <th>urban_area_sqkm</th>\n",
       "      <th>year</th>\n",
       "    </tr>\n",
       "  </thead>\n",
       "  <tbody>\n",
       "    <tr>\n",
       "      <th>0</th>\n",
       "      <td>Addis Ababa</td>\n",
       "      <td>193.521207</td>\n",
       "      <td>2001.0</td>\n",
       "    </tr>\n",
       "    <tr>\n",
       "      <th>1</th>\n",
       "      <td>Kampala</td>\n",
       "      <td>186.064651</td>\n",
       "      <td>2001.0</td>\n",
       "    </tr>\n",
       "    <tr>\n",
       "      <th>2</th>\n",
       "      <td>Addis Ababa</td>\n",
       "      <td>193.521207</td>\n",
       "      <td>2002.0</td>\n",
       "    </tr>\n",
       "    <tr>\n",
       "      <th>3</th>\n",
       "      <td>Kampala</td>\n",
       "      <td>189.051243</td>\n",
       "      <td>2002.0</td>\n",
       "    </tr>\n",
       "    <tr>\n",
       "      <th>4</th>\n",
       "      <td>Addis Ababa</td>\n",
       "      <td>194.019134</td>\n",
       "      <td>2003.0</td>\n",
       "    </tr>\n",
       "  </tbody>\n",
       "</table>\n",
       "</div>"
      ],
      "text/plain": [
       "          city  urban_area_sqkm    year\n",
       "0  Addis Ababa       193.521207  2001.0\n",
       "1      Kampala       186.064651  2001.0\n",
       "2  Addis Ababa       193.521207  2002.0\n",
       "3      Kampala       189.051243  2002.0\n",
       "4  Addis Ababa       194.019134  2003.0"
      ]
     },
     "execution_count": 5,
     "metadata": {},
     "output_type": "execute_result"
    }
   ],
   "source": [
    "# sorting the rows to have each city in order by year\n",
    "df = df.sort_values(by=[\"year\", \"city\"]).reset_index(drop=True)\n",
    "df.head()"
   ]
  },
  {
   "cell_type": "code",
   "execution_count": 6,
   "id": "37647ab7",
   "metadata": {},
   "outputs": [
    {
     "data": {
      "application/vnd.microsoft.datawrangler.viewer.v0+json": {
       "columns": [
        {
         "name": "index",
         "rawType": "int64",
         "type": "integer"
        },
        {
         "name": "year",
         "rawType": "float64",
         "type": "float"
        },
        {
         "name": "city",
         "rawType": "object",
         "type": "string"
        },
        {
         "name": "urban_area_sqkm",
         "rawType": "float64",
         "type": "float"
        }
       ],
       "ref": "9041c35d-64d0-48f4-aaa6-6879e1045914",
       "rows": [
        [
         "0",
         "2001.0",
         "Addis Ababa",
         "193.52120662659317"
        ],
        [
         "1",
         "2001.0",
         "Kampala",
         "186.0646509253064"
        ],
        [
         "2",
         "2002.0",
         "Addis Ababa",
         "193.52120662659317"
        ],
        [
         "3",
         "2002.0",
         "Kampala",
         "189.05124250343135"
        ],
        [
         "4",
         "2003.0",
         "Addis Ababa",
         "194.01913384534316"
        ]
       ],
       "shape": {
        "columns": 3,
        "rows": 5
       }
      },
      "text/html": [
       "<div>\n",
       "<style scoped>\n",
       "    .dataframe tbody tr th:only-of-type {\n",
       "        vertical-align: middle;\n",
       "    }\n",
       "\n",
       "    .dataframe tbody tr th {\n",
       "        vertical-align: top;\n",
       "    }\n",
       "\n",
       "    .dataframe thead th {\n",
       "        text-align: right;\n",
       "    }\n",
       "</style>\n",
       "<table border=\"1\" class=\"dataframe\">\n",
       "  <thead>\n",
       "    <tr style=\"text-align: right;\">\n",
       "      <th></th>\n",
       "      <th>year</th>\n",
       "      <th>city</th>\n",
       "      <th>urban_area_sqkm</th>\n",
       "    </tr>\n",
       "  </thead>\n",
       "  <tbody>\n",
       "    <tr>\n",
       "      <th>0</th>\n",
       "      <td>2001.0</td>\n",
       "      <td>Addis Ababa</td>\n",
       "      <td>193.521207</td>\n",
       "    </tr>\n",
       "    <tr>\n",
       "      <th>1</th>\n",
       "      <td>2001.0</td>\n",
       "      <td>Kampala</td>\n",
       "      <td>186.064651</td>\n",
       "    </tr>\n",
       "    <tr>\n",
       "      <th>2</th>\n",
       "      <td>2002.0</td>\n",
       "      <td>Addis Ababa</td>\n",
       "      <td>193.521207</td>\n",
       "    </tr>\n",
       "    <tr>\n",
       "      <th>3</th>\n",
       "      <td>2002.0</td>\n",
       "      <td>Kampala</td>\n",
       "      <td>189.051243</td>\n",
       "    </tr>\n",
       "    <tr>\n",
       "      <th>4</th>\n",
       "      <td>2003.0</td>\n",
       "      <td>Addis Ababa</td>\n",
       "      <td>194.019134</td>\n",
       "    </tr>\n",
       "  </tbody>\n",
       "</table>\n",
       "</div>"
      ],
      "text/plain": [
       "     year         city  urban_area_sqkm\n",
       "0  2001.0  Addis Ababa       193.521207\n",
       "1  2001.0      Kampala       186.064651\n",
       "2  2002.0  Addis Ababa       193.521207\n",
       "3  2002.0      Kampala       189.051243\n",
       "4  2003.0  Addis Ababa       194.019134"
      ]
     },
     "execution_count": 6,
     "metadata": {},
     "output_type": "execute_result"
    }
   ],
   "source": [
    "# Reordering the columns to have Year, City, and UrbanExtent\n",
    "df = df[[\"year\", \"city\", \"urban_area_sqkm\"]]\n",
    "\n",
    "df.head()"
   ]
  },
  {
   "cell_type": "code",
   "execution_count": 7,
   "id": "b4289d87",
   "metadata": {},
   "outputs": [
    {
     "data": {
      "application/vnd.microsoft.datawrangler.viewer.v0+json": {
       "columns": [
        {
         "name": "index",
         "rawType": "int64",
         "type": "integer"
        },
        {
         "name": "year",
         "rawType": "float64",
         "type": "float"
        },
        {
         "name": "city",
         "rawType": "object",
         "type": "string"
        },
        {
         "name": "urban_area_sqkm",
         "rawType": "float64",
         "type": "float"
        }
       ],
       "ref": "0bb472cb-f8af-405a-a0ec-8261f35b639c",
       "rows": [
        [
         "28",
         "2015.0",
         "Addis Ababa",
         "205.96939409534315"
        ],
        [
         "29",
         "2015.0",
         "Kampala",
         "263.68089745655635"
        ],
        [
         "30",
         "2016.0",
         "Addis Ababa",
         "208.70799100159317"
        ],
        [
         "31",
         "2016.0",
         "Kampala",
         "269.1563157221814"
        ],
        [
         "32",
         "2017.0",
         "Addis Ababa",
         "211.19762486096812"
        ]
       ],
       "shape": {
        "columns": 3,
        "rows": 5
       }
      },
      "text/html": [
       "<div>\n",
       "<style scoped>\n",
       "    .dataframe tbody tr th:only-of-type {\n",
       "        vertical-align: middle;\n",
       "    }\n",
       "\n",
       "    .dataframe tbody tr th {\n",
       "        vertical-align: top;\n",
       "    }\n",
       "\n",
       "    .dataframe thead th {\n",
       "        text-align: right;\n",
       "    }\n",
       "</style>\n",
       "<table border=\"1\" class=\"dataframe\">\n",
       "  <thead>\n",
       "    <tr style=\"text-align: right;\">\n",
       "      <th></th>\n",
       "      <th>year</th>\n",
       "      <th>city</th>\n",
       "      <th>urban_area_sqkm</th>\n",
       "    </tr>\n",
       "  </thead>\n",
       "  <tbody>\n",
       "    <tr>\n",
       "      <th>28</th>\n",
       "      <td>2015.0</td>\n",
       "      <td>Addis Ababa</td>\n",
       "      <td>205.969394</td>\n",
       "    </tr>\n",
       "    <tr>\n",
       "      <th>29</th>\n",
       "      <td>2015.0</td>\n",
       "      <td>Kampala</td>\n",
       "      <td>263.680897</td>\n",
       "    </tr>\n",
       "    <tr>\n",
       "      <th>30</th>\n",
       "      <td>2016.0</td>\n",
       "      <td>Addis Ababa</td>\n",
       "      <td>208.707991</td>\n",
       "    </tr>\n",
       "    <tr>\n",
       "      <th>31</th>\n",
       "      <td>2016.0</td>\n",
       "      <td>Kampala</td>\n",
       "      <td>269.156316</td>\n",
       "    </tr>\n",
       "    <tr>\n",
       "      <th>32</th>\n",
       "      <td>2017.0</td>\n",
       "      <td>Addis Ababa</td>\n",
       "      <td>211.197625</td>\n",
       "    </tr>\n",
       "  </tbody>\n",
       "</table>\n",
       "</div>"
      ],
      "text/plain": [
       "      year         city  urban_area_sqkm\n",
       "28  2015.0  Addis Ababa       205.969394\n",
       "29  2015.0      Kampala       263.680897\n",
       "30  2016.0  Addis Ababa       208.707991\n",
       "31  2016.0      Kampala       269.156316\n",
       "32  2017.0  Addis Ababa       211.197625"
      ]
     },
     "execution_count": 7,
     "metadata": {},
     "output_type": "execute_result"
    }
   ],
   "source": [
    "# Keeping only rows of years 2015 to 2020\n",
    "df = df[(df[\"year\"] >= 2015) & (df[\"year\"] <= 2020)]\n",
    "df.head()"
   ]
  },
  {
   "cell_type": "code",
   "execution_count": null,
   "id": "32975a58",
   "metadata": {},
   "outputs": [],
   "source": [
    "# Saving the cleaned DataFrame to a new CSV file\n",
    "df.to_csv(\"urbanextent_kampala_addis_cleaned.csv\", index=False)"
   ]
  }
 ],
 "metadata": {
  "kernelspec": {
   "display_name": "Python 3",
   "language": "python",
   "name": "python3"
  },
  "language_info": {
   "codemirror_mode": {
    "name": "ipython",
    "version": 3
   },
   "file_extension": ".py",
   "mimetype": "text/x-python",
   "name": "python",
   "nbconvert_exporter": "python",
   "pygments_lexer": "ipython3",
   "version": "3.13.2"
  }
 },
 "nbformat": 4,
 "nbformat_minor": 5
}
