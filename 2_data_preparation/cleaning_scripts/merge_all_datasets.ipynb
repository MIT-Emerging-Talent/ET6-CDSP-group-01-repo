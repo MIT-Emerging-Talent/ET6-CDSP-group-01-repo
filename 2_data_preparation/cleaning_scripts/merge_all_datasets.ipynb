{
 "cells": [
  {
   "cell_type": "code",
   "execution_count": 1,
   "id": "601e122d",
   "metadata": {},
   "outputs": [
    {
     "data": {
      "application/vnd.microsoft.datawrangler.viewer.v0+json": {
       "columns": [
        {
         "name": "index",
         "rawType": "int64",
         "type": "integer"
        },
        {
         "name": "year",
         "rawType": "int64",
         "type": "integer"
        },
        {
         "name": "city",
         "rawType": "object",
         "type": "string"
        },
        {
         "name": "flood_water_extent_(km^2)",
         "rawType": "float64",
         "type": "float"
        },
        {
         "name": "rainfall_mm",
         "rawType": "float64",
         "type": "float"
        },
        {
         "name": "urban_area_sqkm",
         "rawType": "float64",
         "type": "float"
        }
       ],
       "ref": "308fc083-241c-49ec-bffb-08341dd564b4",
       "rows": [
        [
         "0",
         "2015",
         "Addis Ababa",
         "1161.5173727992258",
         "768.0094281",
         "205.96939409534315"
        ],
        [
         "1",
         "2015",
         "Kampala",
         "1789.5801764859505",
         "1271.579796",
         "263.68089745655635"
        ],
        [
         "2",
         "2016",
         "Addis Ababa",
         "1532.6170013443905",
         "1164.3808206",
         "208.7079910015932"
        ],
        [
         "3",
         "2016",
         "Kampala",
         "2217.205480620441",
         "1051.015188",
         "269.1563157221814"
        ],
        [
         "4",
         "2017",
         "Addis Ababa",
         "1377.9047457085178",
         "1299.1030627",
         "211.1976248609681"
        ]
       ],
       "shape": {
        "columns": 5,
        "rows": 5
       }
      },
      "text/html": [
       "<div>\n",
       "<style scoped>\n",
       "    .dataframe tbody tr th:only-of-type {\n",
       "        vertical-align: middle;\n",
       "    }\n",
       "\n",
       "    .dataframe tbody tr th {\n",
       "        vertical-align: top;\n",
       "    }\n",
       "\n",
       "    .dataframe thead th {\n",
       "        text-align: right;\n",
       "    }\n",
       "</style>\n",
       "<table border=\"1\" class=\"dataframe\">\n",
       "  <thead>\n",
       "    <tr style=\"text-align: right;\">\n",
       "      <th></th>\n",
       "      <th>year</th>\n",
       "      <th>city</th>\n",
       "      <th>flood_water_extent_(km^2)</th>\n",
       "      <th>rainfall_mm</th>\n",
       "      <th>urban_area_sqkm</th>\n",
       "    </tr>\n",
       "  </thead>\n",
       "  <tbody>\n",
       "    <tr>\n",
       "      <th>0</th>\n",
       "      <td>2015</td>\n",
       "      <td>Addis Ababa</td>\n",
       "      <td>1161.517373</td>\n",
       "      <td>768.009428</td>\n",
       "      <td>205.969394</td>\n",
       "    </tr>\n",
       "    <tr>\n",
       "      <th>1</th>\n",
       "      <td>2015</td>\n",
       "      <td>Kampala</td>\n",
       "      <td>1789.580176</td>\n",
       "      <td>1271.579796</td>\n",
       "      <td>263.680897</td>\n",
       "    </tr>\n",
       "    <tr>\n",
       "      <th>2</th>\n",
       "      <td>2016</td>\n",
       "      <td>Addis Ababa</td>\n",
       "      <td>1532.617001</td>\n",
       "      <td>1164.380821</td>\n",
       "      <td>208.707991</td>\n",
       "    </tr>\n",
       "    <tr>\n",
       "      <th>3</th>\n",
       "      <td>2016</td>\n",
       "      <td>Kampala</td>\n",
       "      <td>2217.205481</td>\n",
       "      <td>1051.015188</td>\n",
       "      <td>269.156316</td>\n",
       "    </tr>\n",
       "    <tr>\n",
       "      <th>4</th>\n",
       "      <td>2017</td>\n",
       "      <td>Addis Ababa</td>\n",
       "      <td>1377.904746</td>\n",
       "      <td>1299.103063</td>\n",
       "      <td>211.197625</td>\n",
       "    </tr>\n",
       "  </tbody>\n",
       "</table>\n",
       "</div>"
      ],
      "text/plain": [
       "   year         city  flood_water_extent_(km^2)  rainfall_mm  urban_area_sqkm\n",
       "0  2015  Addis Ababa                1161.517373   768.009428       205.969394\n",
       "1  2015      Kampala                1789.580176  1271.579796       263.680897\n",
       "2  2016  Addis Ababa                1532.617001  1164.380821       208.707991\n",
       "3  2016      Kampala                2217.205481  1051.015188       269.156316\n",
       "4  2017  Addis Ababa                1377.904746  1299.103063       211.197625"
      ]
     },
     "execution_count": 1,
     "metadata": {},
     "output_type": "execute_result"
    }
   ],
   "source": [
    "import pandas as pd\n",
    "\n",
    "# load the datasets\n",
    "cleaned_rainfall = pd.read_csv(\"cleaned_rainfall_data.csv\")\n",
    "cleaned_urban_extent = pd.read_csv(\"urbanextent_kampala_addis_cleaned.csv\")\n",
    "cleaned_flood_water_extent = pd.read_csv(\n",
    "    \"yearly_flood_water_extent_kampala_addis_2015_2020.csv\"\n",
    ")\n",
    "\n",
    "# Normalize the column names\n",
    "cleaned_rainfall.columns = cleaned_rainfall.columns.str.lower().str.replace(\" \", \"_\")\n",
    "cleaned_urban_extent.columns = cleaned_urban_extent.columns.str.lower().str.replace(\n",
    "    \" \", \"_\"\n",
    ")\n",
    "cleaned_flood_water_extent.columns = (\n",
    "    cleaned_flood_water_extent.columns.str.lower().str.replace(\" \", \"_\")\n",
    ")\n",
    "\n",
    "# Merge flood water extent with rainfall data\n",
    "merged_data = pd.merge(\n",
    "    cleaned_flood_water_extent,\n",
    "    cleaned_rainfall,\n",
    "    on=[\"year\", \"city\"],\n",
    "    how=\"outer\",\n",
    ")\n",
    "\n",
    "# Merge the urban extent data\n",
    "merged_data = pd.merge(\n",
    "    merged_data, cleaned_urban_extent, on=[\"year\", \"city\"], how=\"outer\"\n",
    ")\n",
    "\n",
    "# Display the first few rows of the merged dataset\n",
    "merged_data.head()"
   ]
  },
  {
   "cell_type": "code",
   "execution_count": 4,
   "id": "aefbc5a0",
   "metadata": {},
   "outputs": [],
   "source": [
    "# Save the merged dataset to a new CSV file\n",
    "merged_data.to_csv(\"merged_flood_rainfall_urban_extent.csv\", index=False)"
   ]
  }
 ],
 "metadata": {
  "kernelspec": {
   "display_name": "Python 3",
   "language": "python",
   "name": "python3"
  },
  "language_info": {
   "codemirror_mode": {
    "name": "ipython",
    "version": 3
   },
   "file_extension": ".py",
   "mimetype": "text/x-python",
   "name": "python",
   "nbconvert_exporter": "python",
   "pygments_lexer": "ipython3",
   "version": "3.13.2"
  }
 },
 "nbformat": 4,
 "nbformat_minor": 5
}
