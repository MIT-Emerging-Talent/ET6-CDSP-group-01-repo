{
 "cells": [
  {
   "cell_type": "markdown",
   "id": "3ecc0e85",
   "metadata": {},
   "source": [
    "# Cleaning Flood Water Extent for Kampala and Addis Ababa\n",
    "\n",
    "This notebook cleans the file of monthly flood water extent by;\n",
    "- Removing unnecessary columns.\n",
    "- Adding in values for the missing years\n",
    "- Sorting the rows so each row has coordinates for each city of the same year.\n",
    "- Re-arranging the variables in the order"
   ]
  },
  {
   "cell_type": "code",
   "execution_count": null,
   "id": "2d67848f",
   "metadata": {},
   "outputs": [],
   "source": [
    "import pandas as pd\n",
    "\n",
    "df = pd.read_csv(\"Monthly_Flood_Water_Extent_Kampala_Addis_2015_2025_km2.csv\")"
   ]
  },
  {
   "cell_type": "code",
   "execution_count": 2,
   "id": "c66d4db6",
   "metadata": {},
   "outputs": [
    {
     "data": {
      "application/vnd.microsoft.datawrangler.viewer.v0+json": {
       "columns": [
        {
         "name": "index",
         "rawType": "int64",
         "type": "integer"
        },
        {
         "name": "system:index",
         "rawType": "object",
         "type": "string"
        },
        {
         "name": "city",
         "rawType": "object",
         "type": "string"
        },
        {
         "name": "flood_water_extent (km^2)",
         "rawType": "float64",
         "type": "float"
        },
        {
         "name": "month",
         "rawType": "object",
         "type": "string"
        },
        {
         "name": "source",
         "rawType": "object",
         "type": "string"
        },
        {
         "name": ".geo",
         "rawType": "object",
         "type": "string"
        }
       ],
       "ref": "03f12d6b-9f07-4200-9cb6-60650720e705",
       "rows": [
        [
         "0",
         "0_0",
         "Kampala",
         "195.38009195648408",
         "2015-01",
         "Sentinel-1",
         "{\"type\":\"MultiPoint\",\"coordinates\":[]}"
        ],
        [
         "1",
         "0_1",
         "Kampala",
         "207.9218940916225",
         "2015-02",
         "Sentinel-1",
         "{\"type\":\"MultiPoint\",\"coordinates\":[]}"
        ],
        [
         "2",
         "0_2",
         "Kampala",
         "140.0357083307576",
         "2015-03",
         "Sentinel-1",
         "{\"type\":\"MultiPoint\",\"coordinates\":[]}"
        ],
        [
         "3",
         "0_3",
         "Kampala",
         "112.02448871658694",
         "2015-04",
         "Sentinel-1",
         "{\"type\":\"MultiPoint\",\"coordinates\":[]}"
        ],
        [
         "4",
         "0_4",
         "Kampala",
         "114.62855848894976",
         "2015-05",
         "Sentinel-1",
         "{\"type\":\"MultiPoint\",\"coordinates\":[]}"
        ]
       ],
       "shape": {
        "columns": 6,
        "rows": 5
       }
      },
      "text/html": [
       "<div>\n",
       "<style scoped>\n",
       "    .dataframe tbody tr th:only-of-type {\n",
       "        vertical-align: middle;\n",
       "    }\n",
       "\n",
       "    .dataframe tbody tr th {\n",
       "        vertical-align: top;\n",
       "    }\n",
       "\n",
       "    .dataframe thead th {\n",
       "        text-align: right;\n",
       "    }\n",
       "</style>\n",
       "<table border=\"1\" class=\"dataframe\">\n",
       "  <thead>\n",
       "    <tr style=\"text-align: right;\">\n",
       "      <th></th>\n",
       "      <th>system:index</th>\n",
       "      <th>city</th>\n",
       "      <th>flood_water_extent (km^2)</th>\n",
       "      <th>month</th>\n",
       "      <th>source</th>\n",
       "      <th>.geo</th>\n",
       "    </tr>\n",
       "  </thead>\n",
       "  <tbody>\n",
       "    <tr>\n",
       "      <th>0</th>\n",
       "      <td>0_0</td>\n",
       "      <td>Kampala</td>\n",
       "      <td>195.380092</td>\n",
       "      <td>2015-01</td>\n",
       "      <td>Sentinel-1</td>\n",
       "      <td>{\"type\":\"MultiPoint\",\"coordinates\":[]}</td>\n",
       "    </tr>\n",
       "    <tr>\n",
       "      <th>1</th>\n",
       "      <td>0_1</td>\n",
       "      <td>Kampala</td>\n",
       "      <td>207.921894</td>\n",
       "      <td>2015-02</td>\n",
       "      <td>Sentinel-1</td>\n",
       "      <td>{\"type\":\"MultiPoint\",\"coordinates\":[]}</td>\n",
       "    </tr>\n",
       "    <tr>\n",
       "      <th>2</th>\n",
       "      <td>0_2</td>\n",
       "      <td>Kampala</td>\n",
       "      <td>140.035708</td>\n",
       "      <td>2015-03</td>\n",
       "      <td>Sentinel-1</td>\n",
       "      <td>{\"type\":\"MultiPoint\",\"coordinates\":[]}</td>\n",
       "    </tr>\n",
       "    <tr>\n",
       "      <th>3</th>\n",
       "      <td>0_3</td>\n",
       "      <td>Kampala</td>\n",
       "      <td>112.024489</td>\n",
       "      <td>2015-04</td>\n",
       "      <td>Sentinel-1</td>\n",
       "      <td>{\"type\":\"MultiPoint\",\"coordinates\":[]}</td>\n",
       "    </tr>\n",
       "    <tr>\n",
       "      <th>4</th>\n",
       "      <td>0_4</td>\n",
       "      <td>Kampala</td>\n",
       "      <td>114.628558</td>\n",
       "      <td>2015-05</td>\n",
       "      <td>Sentinel-1</td>\n",
       "      <td>{\"type\":\"MultiPoint\",\"coordinates\":[]}</td>\n",
       "    </tr>\n",
       "  </tbody>\n",
       "</table>\n",
       "</div>"
      ],
      "text/plain": [
       "  system:index     city  flood_water_extent (km^2)    month      source  \\\n",
       "0          0_0  Kampala                 195.380092  2015-01  Sentinel-1   \n",
       "1          0_1  Kampala                 207.921894  2015-02  Sentinel-1   \n",
       "2          0_2  Kampala                 140.035708  2015-03  Sentinel-1   \n",
       "3          0_3  Kampala                 112.024489  2015-04  Sentinel-1   \n",
       "4          0_4  Kampala                 114.628558  2015-05  Sentinel-1   \n",
       "\n",
       "                                     .geo  \n",
       "0  {\"type\":\"MultiPoint\",\"coordinates\":[]}  \n",
       "1  {\"type\":\"MultiPoint\",\"coordinates\":[]}  \n",
       "2  {\"type\":\"MultiPoint\",\"coordinates\":[]}  \n",
       "3  {\"type\":\"MultiPoint\",\"coordinates\":[]}  \n",
       "4  {\"type\":\"MultiPoint\",\"coordinates\":[]}  "
      ]
     },
     "execution_count": 2,
     "metadata": {},
     "output_type": "execute_result"
    }
   ],
   "source": [
    "df.head()"
   ]
  },
  {
   "cell_type": "code",
   "execution_count": 3,
   "id": "200e2503",
   "metadata": {},
   "outputs": [
    {
     "data": {
      "text/plain": [
       "Index(['system:index', 'city', 'flood_water_extent (km^2)', 'month', 'source',\n",
       "       '.geo'],\n",
       "      dtype='object')"
      ]
     },
     "execution_count": 3,
     "metadata": {},
     "output_type": "execute_result"
    }
   ],
   "source": [
    "df.columns"
   ]
  },
  {
   "cell_type": "code",
   "execution_count": null,
   "id": "1c00c670",
   "metadata": {},
   "outputs": [],
   "source": [
    "# Extracting the year from the 'month' column\n",
    "df[\"year\"] = df[\"month\"].str.extract(r\"(\\d{4})\").astype(int)\n",
    "\n",
    "# Removing unnecessary columns\n",
    "df = df.drop(columns=[\"system:index\", \"month\", \"source\", \".geo\"])\n",
    "\n",
    "# Grouping by year and city to sum the flood water extent\n",
    "yearly_flood_water_extent = (\n",
    "    df.groupby([\"year\", \"city\"])[\"flood_water_extent (km^2)\"].sum().reset_index()\n",
    ")\n",
    "\n",
    "# Sorting the variables so that the year is first and\n",
    "# city is second then flood water extent\n",
    "yearly_flood_water_extent = yearly_flood_water_extent.sort_values(\n",
    "    by=[\"year\", \"city\"]\n",
    ").reset_index(drop=True)"
   ]
  },
  {
   "cell_type": "code",
   "execution_count": 5,
   "id": "62344925",
   "metadata": {},
   "outputs": [
    {
     "data": {
      "application/vnd.microsoft.datawrangler.viewer.v0+json": {
       "columns": [
        {
         "name": "index",
         "rawType": "int64",
         "type": "integer"
        },
        {
         "name": "year",
         "rawType": "int64",
         "type": "integer"
        },
        {
         "name": "city",
         "rawType": "object",
         "type": "string"
        },
        {
         "name": "flood_water_extent (km^2)",
         "rawType": "float64",
         "type": "float"
        }
       ],
       "ref": "520e296a-3058-4f7e-aeb7-4b94501dd1c9",
       "rows": [
        [
         "0",
         "2015",
         "Addis Ababa",
         "1161.5173727992258"
        ],
        [
         "1",
         "2015",
         "Kampala",
         "1789.5801764859505"
        ],
        [
         "2",
         "2016",
         "Addis Ababa",
         "1532.6170013443905"
        ],
        [
         "3",
         "2016",
         "Kampala",
         "2217.2054806204414"
        ],
        [
         "4",
         "2017",
         "Addis Ababa",
         "1377.9047457085178"
        ]
       ],
       "shape": {
        "columns": 3,
        "rows": 5
       }
      },
      "text/html": [
       "<div>\n",
       "<style scoped>\n",
       "    .dataframe tbody tr th:only-of-type {\n",
       "        vertical-align: middle;\n",
       "    }\n",
       "\n",
       "    .dataframe tbody tr th {\n",
       "        vertical-align: top;\n",
       "    }\n",
       "\n",
       "    .dataframe thead th {\n",
       "        text-align: right;\n",
       "    }\n",
       "</style>\n",
       "<table border=\"1\" class=\"dataframe\">\n",
       "  <thead>\n",
       "    <tr style=\"text-align: right;\">\n",
       "      <th></th>\n",
       "      <th>year</th>\n",
       "      <th>city</th>\n",
       "      <th>flood_water_extent (km^2)</th>\n",
       "    </tr>\n",
       "  </thead>\n",
       "  <tbody>\n",
       "    <tr>\n",
       "      <th>0</th>\n",
       "      <td>2015</td>\n",
       "      <td>Addis Ababa</td>\n",
       "      <td>1161.517373</td>\n",
       "    </tr>\n",
       "    <tr>\n",
       "      <th>1</th>\n",
       "      <td>2015</td>\n",
       "      <td>Kampala</td>\n",
       "      <td>1789.580176</td>\n",
       "    </tr>\n",
       "    <tr>\n",
       "      <th>2</th>\n",
       "      <td>2016</td>\n",
       "      <td>Addis Ababa</td>\n",
       "      <td>1532.617001</td>\n",
       "    </tr>\n",
       "    <tr>\n",
       "      <th>3</th>\n",
       "      <td>2016</td>\n",
       "      <td>Kampala</td>\n",
       "      <td>2217.205481</td>\n",
       "    </tr>\n",
       "    <tr>\n",
       "      <th>4</th>\n",
       "      <td>2017</td>\n",
       "      <td>Addis Ababa</td>\n",
       "      <td>1377.904746</td>\n",
       "    </tr>\n",
       "  </tbody>\n",
       "</table>\n",
       "</div>"
      ],
      "text/plain": [
       "   year         city  flood_water_extent (km^2)\n",
       "0  2015  Addis Ababa                1161.517373\n",
       "1  2015      Kampala                1789.580176\n",
       "2  2016  Addis Ababa                1532.617001\n",
       "3  2016      Kampala                2217.205481\n",
       "4  2017  Addis Ababa                1377.904746"
      ]
     },
     "execution_count": 5,
     "metadata": {},
     "output_type": "execute_result"
    }
   ],
   "source": [
    "yearly_flood_water_extent.head()"
   ]
  },
  {
   "cell_type": "code",
   "execution_count": null,
   "id": "8fa02066",
   "metadata": {},
   "outputs": [
    {
     "data": {
      "application/vnd.microsoft.datawrangler.viewer.v0+json": {
       "columns": [
        {
         "name": "index",
         "rawType": "int64",
         "type": "integer"
        },
        {
         "name": "year",
         "rawType": "int64",
         "type": "integer"
        },
        {
         "name": "city",
         "rawType": "object",
         "type": "string"
        },
        {
         "name": "flood_water_extent (km^2)",
         "rawType": "float64",
         "type": "float"
        }
       ],
       "ref": "bf5e8c77-977e-4754-96a8-ce578aeeb1c9",
       "rows": [
        [
         "0",
         "2005",
         "Addis Ababa",
         "0.0"
        ],
        [
         "1",
         "2005",
         "Kampala",
         "0.0"
        ],
        [
         "2",
         "2006",
         "Addis Ababa",
         "0.0"
        ],
        [
         "3",
         "2006",
         "Kampala",
         "0.0"
        ],
        [
         "4",
         "2007",
         "Addis Ababa",
         "0.0"
        ]
       ],
       "shape": {
        "columns": 3,
        "rows": 5
       }
      },
      "text/html": [
       "<div>\n",
       "<style scoped>\n",
       "    .dataframe tbody tr th:only-of-type {\n",
       "        vertical-align: middle;\n",
       "    }\n",
       "\n",
       "    .dataframe tbody tr th {\n",
       "        vertical-align: top;\n",
       "    }\n",
       "\n",
       "    .dataframe thead th {\n",
       "        text-align: right;\n",
       "    }\n",
       "</style>\n",
       "<table border=\"1\" class=\"dataframe\">\n",
       "  <thead>\n",
       "    <tr style=\"text-align: right;\">\n",
       "      <th></th>\n",
       "      <th>year</th>\n",
       "      <th>city</th>\n",
       "      <th>flood_water_extent (km^2)</th>\n",
       "    </tr>\n",
       "  </thead>\n",
       "  <tbody>\n",
       "    <tr>\n",
       "      <th>0</th>\n",
       "      <td>2005</td>\n",
       "      <td>Addis Ababa</td>\n",
       "      <td>0.0</td>\n",
       "    </tr>\n",
       "    <tr>\n",
       "      <th>1</th>\n",
       "      <td>2005</td>\n",
       "      <td>Kampala</td>\n",
       "      <td>0.0</td>\n",
       "    </tr>\n",
       "    <tr>\n",
       "      <th>2</th>\n",
       "      <td>2006</td>\n",
       "      <td>Addis Ababa</td>\n",
       "      <td>0.0</td>\n",
       "    </tr>\n",
       "    <tr>\n",
       "      <th>3</th>\n",
       "      <td>2006</td>\n",
       "      <td>Kampala</td>\n",
       "      <td>0.0</td>\n",
       "    </tr>\n",
       "    <tr>\n",
       "      <th>4</th>\n",
       "      <td>2007</td>\n",
       "      <td>Addis Ababa</td>\n",
       "      <td>0.0</td>\n",
       "    </tr>\n",
       "  </tbody>\n",
       "</table>\n",
       "</div>"
      ],
      "text/plain": [
       "   year         city  flood_water_extent (km^2)\n",
       "0  2005  Addis Ababa                        0.0\n",
       "1  2005      Kampala                        0.0\n",
       "2  2006  Addis Ababa                        0.0\n",
       "3  2006      Kampala                        0.0\n",
       "4  2007  Addis Ababa                        0.0"
      ]
     },
     "execution_count": 6,
     "metadata": {},
     "output_type": "execute_result"
    }
   ],
   "source": [
    "# Create a full year range and all cities\n",
    "years = pd.Series(range(2005, 2026), name=\"year\")\n",
    "cities = yearly_flood_water_extent[\"city\"].unique()\n",
    "full_index = pd.MultiIndex.from_product([years, cities], names=[\"year\", \"city\"])\n",
    "\n",
    "# Reindex and fill missing combinations with 0\n",
    "df_filled = (\n",
    "    yearly_flood_water_extent.set_index([\"year\", \"city\"])\n",
    "    .reindex(full_index, fill_value=0)\n",
    "    .reset_index()\n",
    ")\n",
    "\n",
    "df_filled.head()"
   ]
  },
  {
   "cell_type": "code",
   "execution_count": 7,
   "id": "7841cc51",
   "metadata": {},
   "outputs": [
    {
     "data": {
      "application/vnd.microsoft.datawrangler.viewer.v0+json": {
       "columns": [
        {
         "name": "index",
         "rawType": "int64",
         "type": "integer"
        },
        {
         "name": "year",
         "rawType": "int64",
         "type": "integer"
        },
        {
         "name": "city",
         "rawType": "object",
         "type": "string"
        },
        {
         "name": "flood_water_extent (km^2)",
         "rawType": "float64",
         "type": "float"
        }
       ],
       "ref": "3bf1cc11-fc95-4c84-b134-c696b3389475",
       "rows": [
        [
         "0",
         "2005",
         "Addis Ababa",
         "0.0"
        ],
        [
         "1",
         "2005",
         "Kampala",
         "0.0"
        ],
        [
         "2",
         "2006",
         "Addis Ababa",
         "0.0"
        ],
        [
         "3",
         "2006",
         "Kampala",
         "0.0"
        ],
        [
         "4",
         "2007",
         "Addis Ababa",
         "0.0"
        ],
        [
         "5",
         "2007",
         "Kampala",
         "0.0"
        ],
        [
         "6",
         "2008",
         "Addis Ababa",
         "0.0"
        ],
        [
         "7",
         "2008",
         "Kampala",
         "0.0"
        ],
        [
         "8",
         "2009",
         "Addis Ababa",
         "0.0"
        ],
        [
         "9",
         "2009",
         "Kampala",
         "0.0"
        ],
        [
         "10",
         "2010",
         "Addis Ababa",
         "0.0"
        ],
        [
         "11",
         "2010",
         "Kampala",
         "0.0"
        ],
        [
         "12",
         "2011",
         "Addis Ababa",
         "0.0"
        ],
        [
         "13",
         "2011",
         "Kampala",
         "0.0"
        ],
        [
         "14",
         "2012",
         "Addis Ababa",
         "0.0"
        ],
        [
         "15",
         "2012",
         "Kampala",
         "0.0"
        ],
        [
         "16",
         "2013",
         "Addis Ababa",
         "0.0"
        ],
        [
         "17",
         "2013",
         "Kampala",
         "0.0"
        ],
        [
         "18",
         "2014",
         "Addis Ababa",
         "0.0"
        ],
        [
         "19",
         "2014",
         "Kampala",
         "0.0"
        ],
        [
         "20",
         "2015",
         "Addis Ababa",
         "1161.5173727992258"
        ],
        [
         "21",
         "2015",
         "Kampala",
         "1789.5801764859505"
        ],
        [
         "22",
         "2016",
         "Addis Ababa",
         "1532.6170013443905"
        ],
        [
         "23",
         "2016",
         "Kampala",
         "2217.2054806204414"
        ],
        [
         "24",
         "2017",
         "Addis Ababa",
         "1377.9047457085178"
        ],
        [
         "25",
         "2017",
         "Kampala",
         "2109.885355331051"
        ],
        [
         "26",
         "2018",
         "Addis Ababa",
         "1107.0122326753053"
        ],
        [
         "27",
         "2018",
         "Kampala",
         "2063.6476074917928"
        ],
        [
         "28",
         "2019",
         "Addis Ababa",
         "1139.5739660848972"
        ],
        [
         "29",
         "2019",
         "Kampala",
         "2457.0803593366736"
        ],
        [
         "30",
         "2020",
         "Addis Ababa",
         "702.6510913398076"
        ],
        [
         "31",
         "2020",
         "Kampala",
         "2374.5232285624465"
        ],
        [
         "32",
         "2021",
         "Addis Ababa",
         "1074.9314246274475"
        ],
        [
         "33",
         "2021",
         "Kampala",
         "2448.9591207880608"
        ],
        [
         "34",
         "2022",
         "Addis Ababa",
         "1169.1676305298984"
        ],
        [
         "35",
         "2022",
         "Kampala",
         "1530.4587482065335"
        ],
        [
         "36",
         "2023",
         "Addis Ababa",
         "649.4918182638903"
        ],
        [
         "37",
         "2023",
         "Kampala",
         "1916.921169453577"
        ],
        [
         "38",
         "2024",
         "Addis Ababa",
         "779.5511713072322"
        ],
        [
         "39",
         "2024",
         "Kampala",
         "1673.9821006932516"
        ],
        [
         "40",
         "2025",
         "Addis Ababa",
         "711.4121165307957"
        ],
        [
         "41",
         "2025",
         "Kampala",
         "997.1621636786875"
        ]
       ],
       "shape": {
        "columns": 3,
        "rows": 42
       }
      },
      "text/html": [
       "<div>\n",
       "<style scoped>\n",
       "    .dataframe tbody tr th:only-of-type {\n",
       "        vertical-align: middle;\n",
       "    }\n",
       "\n",
       "    .dataframe tbody tr th {\n",
       "        vertical-align: top;\n",
       "    }\n",
       "\n",
       "    .dataframe thead th {\n",
       "        text-align: right;\n",
       "    }\n",
       "</style>\n",
       "<table border=\"1\" class=\"dataframe\">\n",
       "  <thead>\n",
       "    <tr style=\"text-align: right;\">\n",
       "      <th></th>\n",
       "      <th>year</th>\n",
       "      <th>city</th>\n",
       "      <th>flood_water_extent (km^2)</th>\n",
       "    </tr>\n",
       "  </thead>\n",
       "  <tbody>\n",
       "    <tr>\n",
       "      <th>0</th>\n",
       "      <td>2005</td>\n",
       "      <td>Addis Ababa</td>\n",
       "      <td>0.000000</td>\n",
       "    </tr>\n",
       "    <tr>\n",
       "      <th>1</th>\n",
       "      <td>2005</td>\n",
       "      <td>Kampala</td>\n",
       "      <td>0.000000</td>\n",
       "    </tr>\n",
       "    <tr>\n",
       "      <th>2</th>\n",
       "      <td>2006</td>\n",
       "      <td>Addis Ababa</td>\n",
       "      <td>0.000000</td>\n",
       "    </tr>\n",
       "    <tr>\n",
       "      <th>3</th>\n",
       "      <td>2006</td>\n",
       "      <td>Kampala</td>\n",
       "      <td>0.000000</td>\n",
       "    </tr>\n",
       "    <tr>\n",
       "      <th>4</th>\n",
       "      <td>2007</td>\n",
       "      <td>Addis Ababa</td>\n",
       "      <td>0.000000</td>\n",
       "    </tr>\n",
       "    <tr>\n",
       "      <th>5</th>\n",
       "      <td>2007</td>\n",
       "      <td>Kampala</td>\n",
       "      <td>0.000000</td>\n",
       "    </tr>\n",
       "    <tr>\n",
       "      <th>6</th>\n",
       "      <td>2008</td>\n",
       "      <td>Addis Ababa</td>\n",
       "      <td>0.000000</td>\n",
       "    </tr>\n",
       "    <tr>\n",
       "      <th>7</th>\n",
       "      <td>2008</td>\n",
       "      <td>Kampala</td>\n",
       "      <td>0.000000</td>\n",
       "    </tr>\n",
       "    <tr>\n",
       "      <th>8</th>\n",
       "      <td>2009</td>\n",
       "      <td>Addis Ababa</td>\n",
       "      <td>0.000000</td>\n",
       "    </tr>\n",
       "    <tr>\n",
       "      <th>9</th>\n",
       "      <td>2009</td>\n",
       "      <td>Kampala</td>\n",
       "      <td>0.000000</td>\n",
       "    </tr>\n",
       "    <tr>\n",
       "      <th>10</th>\n",
       "      <td>2010</td>\n",
       "      <td>Addis Ababa</td>\n",
       "      <td>0.000000</td>\n",
       "    </tr>\n",
       "    <tr>\n",
       "      <th>11</th>\n",
       "      <td>2010</td>\n",
       "      <td>Kampala</td>\n",
       "      <td>0.000000</td>\n",
       "    </tr>\n",
       "    <tr>\n",
       "      <th>12</th>\n",
       "      <td>2011</td>\n",
       "      <td>Addis Ababa</td>\n",
       "      <td>0.000000</td>\n",
       "    </tr>\n",
       "    <tr>\n",
       "      <th>13</th>\n",
       "      <td>2011</td>\n",
       "      <td>Kampala</td>\n",
       "      <td>0.000000</td>\n",
       "    </tr>\n",
       "    <tr>\n",
       "      <th>14</th>\n",
       "      <td>2012</td>\n",
       "      <td>Addis Ababa</td>\n",
       "      <td>0.000000</td>\n",
       "    </tr>\n",
       "    <tr>\n",
       "      <th>15</th>\n",
       "      <td>2012</td>\n",
       "      <td>Kampala</td>\n",
       "      <td>0.000000</td>\n",
       "    </tr>\n",
       "    <tr>\n",
       "      <th>16</th>\n",
       "      <td>2013</td>\n",
       "      <td>Addis Ababa</td>\n",
       "      <td>0.000000</td>\n",
       "    </tr>\n",
       "    <tr>\n",
       "      <th>17</th>\n",
       "      <td>2013</td>\n",
       "      <td>Kampala</td>\n",
       "      <td>0.000000</td>\n",
       "    </tr>\n",
       "    <tr>\n",
       "      <th>18</th>\n",
       "      <td>2014</td>\n",
       "      <td>Addis Ababa</td>\n",
       "      <td>0.000000</td>\n",
       "    </tr>\n",
       "    <tr>\n",
       "      <th>19</th>\n",
       "      <td>2014</td>\n",
       "      <td>Kampala</td>\n",
       "      <td>0.000000</td>\n",
       "    </tr>\n",
       "    <tr>\n",
       "      <th>20</th>\n",
       "      <td>2015</td>\n",
       "      <td>Addis Ababa</td>\n",
       "      <td>1161.517373</td>\n",
       "    </tr>\n",
       "    <tr>\n",
       "      <th>21</th>\n",
       "      <td>2015</td>\n",
       "      <td>Kampala</td>\n",
       "      <td>1789.580176</td>\n",
       "    </tr>\n",
       "    <tr>\n",
       "      <th>22</th>\n",
       "      <td>2016</td>\n",
       "      <td>Addis Ababa</td>\n",
       "      <td>1532.617001</td>\n",
       "    </tr>\n",
       "    <tr>\n",
       "      <th>23</th>\n",
       "      <td>2016</td>\n",
       "      <td>Kampala</td>\n",
       "      <td>2217.205481</td>\n",
       "    </tr>\n",
       "    <tr>\n",
       "      <th>24</th>\n",
       "      <td>2017</td>\n",
       "      <td>Addis Ababa</td>\n",
       "      <td>1377.904746</td>\n",
       "    </tr>\n",
       "    <tr>\n",
       "      <th>25</th>\n",
       "      <td>2017</td>\n",
       "      <td>Kampala</td>\n",
       "      <td>2109.885355</td>\n",
       "    </tr>\n",
       "    <tr>\n",
       "      <th>26</th>\n",
       "      <td>2018</td>\n",
       "      <td>Addis Ababa</td>\n",
       "      <td>1107.012233</td>\n",
       "    </tr>\n",
       "    <tr>\n",
       "      <th>27</th>\n",
       "      <td>2018</td>\n",
       "      <td>Kampala</td>\n",
       "      <td>2063.647607</td>\n",
       "    </tr>\n",
       "    <tr>\n",
       "      <th>28</th>\n",
       "      <td>2019</td>\n",
       "      <td>Addis Ababa</td>\n",
       "      <td>1139.573966</td>\n",
       "    </tr>\n",
       "    <tr>\n",
       "      <th>29</th>\n",
       "      <td>2019</td>\n",
       "      <td>Kampala</td>\n",
       "      <td>2457.080359</td>\n",
       "    </tr>\n",
       "    <tr>\n",
       "      <th>30</th>\n",
       "      <td>2020</td>\n",
       "      <td>Addis Ababa</td>\n",
       "      <td>702.651091</td>\n",
       "    </tr>\n",
       "    <tr>\n",
       "      <th>31</th>\n",
       "      <td>2020</td>\n",
       "      <td>Kampala</td>\n",
       "      <td>2374.523229</td>\n",
       "    </tr>\n",
       "    <tr>\n",
       "      <th>32</th>\n",
       "      <td>2021</td>\n",
       "      <td>Addis Ababa</td>\n",
       "      <td>1074.931425</td>\n",
       "    </tr>\n",
       "    <tr>\n",
       "      <th>33</th>\n",
       "      <td>2021</td>\n",
       "      <td>Kampala</td>\n",
       "      <td>2448.959121</td>\n",
       "    </tr>\n",
       "    <tr>\n",
       "      <th>34</th>\n",
       "      <td>2022</td>\n",
       "      <td>Addis Ababa</td>\n",
       "      <td>1169.167631</td>\n",
       "    </tr>\n",
       "    <tr>\n",
       "      <th>35</th>\n",
       "      <td>2022</td>\n",
       "      <td>Kampala</td>\n",
       "      <td>1530.458748</td>\n",
       "    </tr>\n",
       "    <tr>\n",
       "      <th>36</th>\n",
       "      <td>2023</td>\n",
       "      <td>Addis Ababa</td>\n",
       "      <td>649.491818</td>\n",
       "    </tr>\n",
       "    <tr>\n",
       "      <th>37</th>\n",
       "      <td>2023</td>\n",
       "      <td>Kampala</td>\n",
       "      <td>1916.921169</td>\n",
       "    </tr>\n",
       "    <tr>\n",
       "      <th>38</th>\n",
       "      <td>2024</td>\n",
       "      <td>Addis Ababa</td>\n",
       "      <td>779.551171</td>\n",
       "    </tr>\n",
       "    <tr>\n",
       "      <th>39</th>\n",
       "      <td>2024</td>\n",
       "      <td>Kampala</td>\n",
       "      <td>1673.982101</td>\n",
       "    </tr>\n",
       "    <tr>\n",
       "      <th>40</th>\n",
       "      <td>2025</td>\n",
       "      <td>Addis Ababa</td>\n",
       "      <td>711.412117</td>\n",
       "    </tr>\n",
       "    <tr>\n",
       "      <th>41</th>\n",
       "      <td>2025</td>\n",
       "      <td>Kampala</td>\n",
       "      <td>997.162164</td>\n",
       "    </tr>\n",
       "  </tbody>\n",
       "</table>\n",
       "</div>"
      ],
      "text/plain": [
       "    year         city  flood_water_extent (km^2)\n",
       "0   2005  Addis Ababa                   0.000000\n",
       "1   2005      Kampala                   0.000000\n",
       "2   2006  Addis Ababa                   0.000000\n",
       "3   2006      Kampala                   0.000000\n",
       "4   2007  Addis Ababa                   0.000000\n",
       "5   2007      Kampala                   0.000000\n",
       "6   2008  Addis Ababa                   0.000000\n",
       "7   2008      Kampala                   0.000000\n",
       "8   2009  Addis Ababa                   0.000000\n",
       "9   2009      Kampala                   0.000000\n",
       "10  2010  Addis Ababa                   0.000000\n",
       "11  2010      Kampala                   0.000000\n",
       "12  2011  Addis Ababa                   0.000000\n",
       "13  2011      Kampala                   0.000000\n",
       "14  2012  Addis Ababa                   0.000000\n",
       "15  2012      Kampala                   0.000000\n",
       "16  2013  Addis Ababa                   0.000000\n",
       "17  2013      Kampala                   0.000000\n",
       "18  2014  Addis Ababa                   0.000000\n",
       "19  2014      Kampala                   0.000000\n",
       "20  2015  Addis Ababa                1161.517373\n",
       "21  2015      Kampala                1789.580176\n",
       "22  2016  Addis Ababa                1532.617001\n",
       "23  2016      Kampala                2217.205481\n",
       "24  2017  Addis Ababa                1377.904746\n",
       "25  2017      Kampala                2109.885355\n",
       "26  2018  Addis Ababa                1107.012233\n",
       "27  2018      Kampala                2063.647607\n",
       "28  2019  Addis Ababa                1139.573966\n",
       "29  2019      Kampala                2457.080359\n",
       "30  2020  Addis Ababa                 702.651091\n",
       "31  2020      Kampala                2374.523229\n",
       "32  2021  Addis Ababa                1074.931425\n",
       "33  2021      Kampala                2448.959121\n",
       "34  2022  Addis Ababa                1169.167631\n",
       "35  2022      Kampala                1530.458748\n",
       "36  2023  Addis Ababa                 649.491818\n",
       "37  2023      Kampala                1916.921169\n",
       "38  2024  Addis Ababa                 779.551171\n",
       "39  2024      Kampala                1673.982101\n",
       "40  2025  Addis Ababa                 711.412117\n",
       "41  2025      Kampala                 997.162164"
      ]
     },
     "execution_count": 7,
     "metadata": {},
     "output_type": "execute_result"
    }
   ],
   "source": [
    "df_filled"
   ]
  },
  {
   "cell_type": "code",
   "execution_count": 8,
   "id": "572f2b60",
   "metadata": {},
   "outputs": [],
   "source": [
    "# Saving the cleaned data to a new CSV file\n",
    "df_filled.to_csv(\n",
    "    \"Cleaned_Flood_Water_Extent_Kampala_Addis_2005_2025_km2.csv\", index=False\n",
    ")"
   ]
  }
 ],
 "metadata": {
  "kernelspec": {
   "display_name": "Python 3",
   "language": "python",
   "name": "python3"
  },
  "language_info": {
   "codemirror_mode": {
    "name": "ipython",
    "version": 3
   },
   "file_extension": ".py",
   "mimetype": "text/x-python",
   "name": "python",
   "nbconvert_exporter": "python",
   "pygments_lexer": "ipython3",
   "version": "3.13.2"
  }
 },
 "nbformat": 4,
 "nbformat_minor": 5
}
