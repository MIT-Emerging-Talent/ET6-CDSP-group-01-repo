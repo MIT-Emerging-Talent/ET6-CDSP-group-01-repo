{
 "cells": [
  {
   "cell_type": "markdown",
   "id": "3ecc0e85",
   "metadata": {},
   "source": [
    "# Cleaning Flood Water Extent for Kampala and Addis Ababa\n",
    "\n",
    "This notebook cleans the file of monthly flood water extent by;\n",
    "- Removing unnecessary columns.\n",
    "- Sorting the rows so each row has coordinates for each city of the same year.\n",
    "- Re-arranging the variables in the order"
   ]
  },
  {
   "cell_type": "code",
   "execution_count": 23,
   "id": "2d67848f",
   "metadata": {},
   "outputs": [],
   "source": [
    "import pandas as pd\n",
    "\n",
    "df = pd.read_csv(\"Monthly_Flood_Water_Extent_Kampala_Addis_2015_2025_km2.csv\")"
   ]
  },
  {
   "cell_type": "code",
   "execution_count": 24,
   "id": "c66d4db6",
   "metadata": {},
   "outputs": [
    {
     "data": {
      "application/vnd.microsoft.datawrangler.viewer.v0+json": {
       "columns": [
        {
         "name": "index",
         "rawType": "int64",
         "type": "integer"
        },
        {
         "name": "system:index",
         "rawType": "object",
         "type": "string"
        },
        {
         "name": "city",
         "rawType": "object",
         "type": "string"
        },
        {
         "name": "flood_water_extent (km^2)",
         "rawType": "float64",
         "type": "float"
        },
        {
         "name": "month",
         "rawType": "object",
         "type": "string"
        },
        {
         "name": "source",
         "rawType": "object",
         "type": "string"
        },
        {
         "name": ".geo",
         "rawType": "object",
         "type": "string"
        }
       ],
       "ref": "4a3420dd-3c8e-4a15-92a3-2d00b76e857f",
       "rows": [
        [
         "0",
         "0_0",
         "Kampala",
         "195.38009195648408",
         "2015-01",
         "Sentinel-1",
         "{\"type\":\"MultiPoint\",\"coordinates\":[]}"
        ],
        [
         "1",
         "0_1",
         "Kampala",
         "207.9218940916225",
         "2015-02",
         "Sentinel-1",
         "{\"type\":\"MultiPoint\",\"coordinates\":[]}"
        ],
        [
         "2",
         "0_2",
         "Kampala",
         "140.0357083307576",
         "2015-03",
         "Sentinel-1",
         "{\"type\":\"MultiPoint\",\"coordinates\":[]}"
        ],
        [
         "3",
         "0_3",
         "Kampala",
         "112.02448871658694",
         "2015-04",
         "Sentinel-1",
         "{\"type\":\"MultiPoint\",\"coordinates\":[]}"
        ],
        [
         "4",
         "0_4",
         "Kampala",
         "114.62855848894976",
         "2015-05",
         "Sentinel-1",
         "{\"type\":\"MultiPoint\",\"coordinates\":[]}"
        ]
       ],
       "shape": {
        "columns": 6,
        "rows": 5
       }
      },
      "text/html": [
       "<div>\n",
       "<style scoped>\n",
       "    .dataframe tbody tr th:only-of-type {\n",
       "        vertical-align: middle;\n",
       "    }\n",
       "\n",
       "    .dataframe tbody tr th {\n",
       "        vertical-align: top;\n",
       "    }\n",
       "\n",
       "    .dataframe thead th {\n",
       "        text-align: right;\n",
       "    }\n",
       "</style>\n",
       "<table border=\"1\" class=\"dataframe\">\n",
       "  <thead>\n",
       "    <tr style=\"text-align: right;\">\n",
       "      <th></th>\n",
       "      <th>system:index</th>\n",
       "      <th>city</th>\n",
       "      <th>flood_water_extent (km^2)</th>\n",
       "      <th>month</th>\n",
       "      <th>source</th>\n",
       "      <th>.geo</th>\n",
       "    </tr>\n",
       "  </thead>\n",
       "  <tbody>\n",
       "    <tr>\n",
       "      <th>0</th>\n",
       "      <td>0_0</td>\n",
       "      <td>Kampala</td>\n",
       "      <td>195.380092</td>\n",
       "      <td>2015-01</td>\n",
       "      <td>Sentinel-1</td>\n",
       "      <td>{\"type\":\"MultiPoint\",\"coordinates\":[]}</td>\n",
       "    </tr>\n",
       "    <tr>\n",
       "      <th>1</th>\n",
       "      <td>0_1</td>\n",
       "      <td>Kampala</td>\n",
       "      <td>207.921894</td>\n",
       "      <td>2015-02</td>\n",
       "      <td>Sentinel-1</td>\n",
       "      <td>{\"type\":\"MultiPoint\",\"coordinates\":[]}</td>\n",
       "    </tr>\n",
       "    <tr>\n",
       "      <th>2</th>\n",
       "      <td>0_2</td>\n",
       "      <td>Kampala</td>\n",
       "      <td>140.035708</td>\n",
       "      <td>2015-03</td>\n",
       "      <td>Sentinel-1</td>\n",
       "      <td>{\"type\":\"MultiPoint\",\"coordinates\":[]}</td>\n",
       "    </tr>\n",
       "    <tr>\n",
       "      <th>3</th>\n",
       "      <td>0_3</td>\n",
       "      <td>Kampala</td>\n",
       "      <td>112.024489</td>\n",
       "      <td>2015-04</td>\n",
       "      <td>Sentinel-1</td>\n",
       "      <td>{\"type\":\"MultiPoint\",\"coordinates\":[]}</td>\n",
       "    </tr>\n",
       "    <tr>\n",
       "      <th>4</th>\n",
       "      <td>0_4</td>\n",
       "      <td>Kampala</td>\n",
       "      <td>114.628558</td>\n",
       "      <td>2015-05</td>\n",
       "      <td>Sentinel-1</td>\n",
       "      <td>{\"type\":\"MultiPoint\",\"coordinates\":[]}</td>\n",
       "    </tr>\n",
       "  </tbody>\n",
       "</table>\n",
       "</div>"
      ],
      "text/plain": [
       "  system:index     city  flood_water_extent (km^2)    month      source  \\\n",
       "0          0_0  Kampala                 195.380092  2015-01  Sentinel-1   \n",
       "1          0_1  Kampala                 207.921894  2015-02  Sentinel-1   \n",
       "2          0_2  Kampala                 140.035708  2015-03  Sentinel-1   \n",
       "3          0_3  Kampala                 112.024489  2015-04  Sentinel-1   \n",
       "4          0_4  Kampala                 114.628558  2015-05  Sentinel-1   \n",
       "\n",
       "                                     .geo  \n",
       "0  {\"type\":\"MultiPoint\",\"coordinates\":[]}  \n",
       "1  {\"type\":\"MultiPoint\",\"coordinates\":[]}  \n",
       "2  {\"type\":\"MultiPoint\",\"coordinates\":[]}  \n",
       "3  {\"type\":\"MultiPoint\",\"coordinates\":[]}  \n",
       "4  {\"type\":\"MultiPoint\",\"coordinates\":[]}  "
      ]
     },
     "execution_count": 24,
     "metadata": {},
     "output_type": "execute_result"
    }
   ],
   "source": [
    "df.head()"
   ]
  },
  {
   "cell_type": "code",
   "execution_count": 25,
   "id": "200e2503",
   "metadata": {},
   "outputs": [
    {
     "data": {
      "text/plain": [
       "Index(['system:index', 'city', 'flood_water_extent (km^2)', 'month', 'source',\n",
       "       '.geo'],\n",
       "      dtype='object')"
      ]
     },
     "execution_count": 25,
     "metadata": {},
     "output_type": "execute_result"
    }
   ],
   "source": [
    "df.columns"
   ]
  },
  {
   "cell_type": "code",
   "execution_count": 26,
   "id": "837969d3",
   "metadata": {},
   "outputs": [
    {
     "data": {
      "application/vnd.microsoft.datawrangler.viewer.v0+json": {
       "columns": [
        {
         "name": "index",
         "rawType": "int64",
         "type": "integer"
        },
        {
         "name": "year",
         "rawType": "int64",
         "type": "integer"
        },
        {
         "name": "city",
         "rawType": "object",
         "type": "string"
        },
        {
         "name": "flood_water_extent (km^2)",
         "rawType": "float64",
         "type": "float"
        }
       ],
       "ref": "d4a9423b-af4a-4b1e-808f-bc51374229cc",
       "rows": [
        [
         "0",
         "2015",
         "Addis Ababa",
         "1161.5173727992258"
        ],
        [
         "1",
         "2015",
         "Kampala",
         "1789.5801764859505"
        ],
        [
         "2",
         "2016",
         "Addis Ababa",
         "1532.6170013443905"
        ],
        [
         "3",
         "2016",
         "Kampala",
         "2217.2054806204414"
        ],
        [
         "4",
         "2017",
         "Addis Ababa",
         "1377.9047457085178"
        ]
       ],
       "shape": {
        "columns": 3,
        "rows": 5
       }
      },
      "text/html": [
       "<div>\n",
       "<style scoped>\n",
       "    .dataframe tbody tr th:only-of-type {\n",
       "        vertical-align: middle;\n",
       "    }\n",
       "\n",
       "    .dataframe tbody tr th {\n",
       "        vertical-align: top;\n",
       "    }\n",
       "\n",
       "    .dataframe thead th {\n",
       "        text-align: right;\n",
       "    }\n",
       "</style>\n",
       "<table border=\"1\" class=\"dataframe\">\n",
       "  <thead>\n",
       "    <tr style=\"text-align: right;\">\n",
       "      <th></th>\n",
       "      <th>year</th>\n",
       "      <th>city</th>\n",
       "      <th>flood_water_extent (km^2)</th>\n",
       "    </tr>\n",
       "  </thead>\n",
       "  <tbody>\n",
       "    <tr>\n",
       "      <th>0</th>\n",
       "      <td>2015</td>\n",
       "      <td>Addis Ababa</td>\n",
       "      <td>1161.517373</td>\n",
       "    </tr>\n",
       "    <tr>\n",
       "      <th>1</th>\n",
       "      <td>2015</td>\n",
       "      <td>Kampala</td>\n",
       "      <td>1789.580176</td>\n",
       "    </tr>\n",
       "    <tr>\n",
       "      <th>2</th>\n",
       "      <td>2016</td>\n",
       "      <td>Addis Ababa</td>\n",
       "      <td>1532.617001</td>\n",
       "    </tr>\n",
       "    <tr>\n",
       "      <th>3</th>\n",
       "      <td>2016</td>\n",
       "      <td>Kampala</td>\n",
       "      <td>2217.205481</td>\n",
       "    </tr>\n",
       "    <tr>\n",
       "      <th>4</th>\n",
       "      <td>2017</td>\n",
       "      <td>Addis Ababa</td>\n",
       "      <td>1377.904746</td>\n",
       "    </tr>\n",
       "  </tbody>\n",
       "</table>\n",
       "</div>"
      ],
      "text/plain": [
       "   year         city  flood_water_extent (km^2)\n",
       "0  2015  Addis Ababa                1161.517373\n",
       "1  2015      Kampala                1789.580176\n",
       "2  2016  Addis Ababa                1532.617001\n",
       "3  2016      Kampala                2217.205481\n",
       "4  2017  Addis Ababa                1377.904746"
      ]
     },
     "execution_count": 26,
     "metadata": {},
     "output_type": "execute_result"
    }
   ],
   "source": [
    "# Extracting the year from the 'month' column\n",
    "df[\"year\"] = df[\"month\"].str.extract(r\"(\\d{4})\").astype(int)\n",
    "\n",
    "# Removing unnecessary columns\n",
    "df = df.drop(columns=[\"system:index\", \"month\", \"source\", \".geo\"])\n",
    "\n",
    "# Grouping by year and city to sum the flood water extent\n",
    "yearly_flood_water_extent = (\n",
    "    df.groupby([\"year\", \"city\"])[\"flood_water_extent (km^2)\"].sum().reset_index()\n",
    ")\n",
    "\n",
    "# Sorting the variables so that the year is first and\n",
    "# city is second then flood water extent\n",
    "yearly_flood_water_extent = yearly_flood_water_extent.sort_values(\n",
    "    by=[\"year\", \"city\"]\n",
    ").reset_index(drop=True)\n",
    "\n",
    "# show the first few rows\n",
    "yearly_flood_water_extent.head()"
   ]
  },
  {
   "cell_type": "code",
   "execution_count": 27,
   "id": "2aaf9049",
   "metadata": {},
   "outputs": [
    {
     "data": {
      "application/vnd.microsoft.datawrangler.viewer.v0+json": {
       "columns": [
        {
         "name": "index",
         "rawType": "int64",
         "type": "integer"
        },
        {
         "name": "year",
         "rawType": "int64",
         "type": "integer"
        },
        {
         "name": "city",
         "rawType": "object",
         "type": "string"
        },
        {
         "name": "flood_water_extent (km^2)",
         "rawType": "float64",
         "type": "float"
        }
       ],
       "ref": "ed598e77-4250-4f74-b762-db8e4f81f459",
       "rows": [
        [
         "0",
         "2015",
         "Addis Ababa",
         "1161.5173727992258"
        ],
        [
         "1",
         "2015",
         "Kampala",
         "1789.5801764859505"
        ],
        [
         "2",
         "2016",
         "Addis Ababa",
         "1532.6170013443905"
        ],
        [
         "3",
         "2016",
         "Kampala",
         "2217.2054806204414"
        ],
        [
         "4",
         "2017",
         "Addis Ababa",
         "1377.9047457085178"
        ]
       ],
       "shape": {
        "columns": 3,
        "rows": 5
       }
      },
      "text/html": [
       "<div>\n",
       "<style scoped>\n",
       "    .dataframe tbody tr th:only-of-type {\n",
       "        vertical-align: middle;\n",
       "    }\n",
       "\n",
       "    .dataframe tbody tr th {\n",
       "        vertical-align: top;\n",
       "    }\n",
       "\n",
       "    .dataframe thead th {\n",
       "        text-align: right;\n",
       "    }\n",
       "</style>\n",
       "<table border=\"1\" class=\"dataframe\">\n",
       "  <thead>\n",
       "    <tr style=\"text-align: right;\">\n",
       "      <th></th>\n",
       "      <th>year</th>\n",
       "      <th>city</th>\n",
       "      <th>flood_water_extent (km^2)</th>\n",
       "    </tr>\n",
       "  </thead>\n",
       "  <tbody>\n",
       "    <tr>\n",
       "      <th>0</th>\n",
       "      <td>2015</td>\n",
       "      <td>Addis Ababa</td>\n",
       "      <td>1161.517373</td>\n",
       "    </tr>\n",
       "    <tr>\n",
       "      <th>1</th>\n",
       "      <td>2015</td>\n",
       "      <td>Kampala</td>\n",
       "      <td>1789.580176</td>\n",
       "    </tr>\n",
       "    <tr>\n",
       "      <th>2</th>\n",
       "      <td>2016</td>\n",
       "      <td>Addis Ababa</td>\n",
       "      <td>1532.617001</td>\n",
       "    </tr>\n",
       "    <tr>\n",
       "      <th>3</th>\n",
       "      <td>2016</td>\n",
       "      <td>Kampala</td>\n",
       "      <td>2217.205481</td>\n",
       "    </tr>\n",
       "    <tr>\n",
       "      <th>4</th>\n",
       "      <td>2017</td>\n",
       "      <td>Addis Ababa</td>\n",
       "      <td>1377.904746</td>\n",
       "    </tr>\n",
       "  </tbody>\n",
       "</table>\n",
       "</div>"
      ],
      "text/plain": [
       "   year         city  flood_water_extent (km^2)\n",
       "0  2015  Addis Ababa                1161.517373\n",
       "1  2015      Kampala                1789.580176\n",
       "2  2016  Addis Ababa                1532.617001\n",
       "3  2016      Kampala                2217.205481\n",
       "4  2017  Addis Ababa                1377.904746"
      ]
     },
     "execution_count": 27,
     "metadata": {},
     "output_type": "execute_result"
    }
   ],
   "source": [
    "# Keep only rows of years 2015 to 2020\n",
    "yearly_flood_water_extent = yearly_flood_water_extent[\n",
    "    (yearly_flood_water_extent[\"year\"] >= 2015)\n",
    "    & (yearly_flood_water_extent[\"year\"] <= 2020)\n",
    "]\n",
    "\n",
    "yearly_flood_water_extent.head()"
   ]
  },
  {
   "cell_type": "code",
   "execution_count": 28,
   "id": "cdb327d1",
   "metadata": {},
   "outputs": [],
   "source": [
    "# saved to csv\n",
    "yearly_flood_water_extent.to_csv(\n",
    "    \"yearly_flood_water_extent_kampala_addis_2015_2020.csv\", index=False\n",
    ")"
   ]
  }
 ],
 "metadata": {
  "kernelspec": {
   "display_name": "Python 3",
   "language": "python",
   "name": "python3"
  },
  "language_info": {
   "codemirror_mode": {
    "name": "ipython",
    "version": 3
   },
   "file_extension": ".py",
   "mimetype": "text/x-python",
   "name": "python",
   "nbconvert_exporter": "python",
   "pygments_lexer": "ipython3",
   "version": "3.13.2"
  }
 },
 "nbformat": 4,
 "nbformat_minor": 5
}
